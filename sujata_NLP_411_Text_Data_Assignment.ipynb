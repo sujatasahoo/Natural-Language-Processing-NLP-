{
  "nbformat": 4,
  "nbformat_minor": 0,
  "metadata": {
    "colab": {
      "name": "sujata_NLP_411_Text_Data_Assignment.ipynb",
      "provenance": [],
      "collapsed_sections": [],
      "include_colab_link": true
    },
    "kernelspec": {
      "display_name": "py37  (Python3)",
      "language": "python",
      "name": "py37"
    },
    "language_info": {
      "codemirror_mode": {
        "name": "ipython",
        "version": 3
      },
      "file_extension": ".py",
      "mimetype": "text/x-python",
      "name": "python",
      "nbconvert_exporter": "python",
      "pygments_lexer": "ipython3",
      "version": "3.7.0"
    },
    "toc-autonumbering": false
  },
  "cells": [
    {
      "cell_type": "markdown",
      "metadata": {
        "id": "view-in-github",
        "colab_type": "text"
      },
      "source": [
        "<a href=\"https://colab.research.google.com/github/sujatasahoo/Natural_Language_Processing_NLP/blob/main/sujata_NLP_411_Text_Data_Assignment.ipynb\" target=\"_parent\"><img src=\"https://colab.research.google.com/assets/colab-badge.svg\" alt=\"Open In Colab\"/></a>"
      ]
    },
    {
      "cell_type": "markdown",
      "metadata": {
        "id": "XLVEUBHAszyf"
      },
      "source": [
        "\n",
        "\n",
        "# Natural Language Processing (NLP)\n",
        "## *Data Science Unit 4 Sprint 1 Assignment 1*\n",
        "\n",
        "Your goal in this assignment: find the attributes of the best & worst coffee shops in the dataset. The text is fairly raw: dates in the review, extra words in the `star_rating` column, etc. You'll probably want to clean that stuff up for a better analysis. \n",
        "\n",
        "Analyze the corpus of text using text visualizations of token frequency. Try cleaning the data as much as possible. Try the following techniques: \n",
        "- Lemmatization\n",
        "- Custom stopword removal\n",
        "\n",
        "Keep in mind the attributes of good tokens. Once you have a solid baseline, layer in the star rating in your visualization(s). Key part of this assignment - produce a write-up of the attributes of the best and worst coffee shops. Based on your analysis, what makes the best the best and the worst the worst. Use graphs and numbesr from your analysis to support your conclusions. There should be plenty of markdown cells! :coffee:"
      ]
    },
    {
      "cell_type": "code",
      "metadata": {
        "id": "WVikJqB6szyi",
        "colab": {
          "base_uri": "https://localhost:8080/",
          "height": 322
        },
        "outputId": "01cdfbb2-fc1f-42b1-9836-bd5ad8c25940"
      },
      "source": [
        "from IPython.display import YouTubeVideo\n",
        "YouTubeVideo('Jml7NVYm8cs')"
      ],
      "execution_count": null,
      "outputs": [
        {
          "output_type": "execute_result",
          "data": {
            "text/html": [
              "\n",
              "        <iframe\n",
              "            width=\"400\"\n",
              "            height=\"300\"\n",
              "            src=\"https://www.youtube.com/embed/Jml7NVYm8cs\"\n",
              "            frameborder=\"0\"\n",
              "            allowfullscreen\n",
              "        ></iframe>\n",
              "        "
            ],
            "text/plain": [
              "<IPython.lib.display.YouTubeVideo at 0x7fa9656adb10>"
            ],
            "image/jpeg": "[encoded data removed]"
          },
          "metadata": {},
          "execution_count": 1
        }
      ]
    },
    {
      "cell_type": "markdown",
      "metadata": {
        "id": "Zwv93p0nw4y7"
      },
      "source": [
        "#0. Prepare"
      ]
    },
    {
      "cell_type": "markdown",
      "metadata": {
        "id": "NznKZiH9wpvW"
      },
      "source": [
        "## 0.1 Get spacy"
      ]
    },
    {
      "cell_type": "code",
      "metadata": {
        "colab": {
          "base_uri": "https://localhost:8080/"
        },
        "id": "jOfpgOqSyX4p",
        "outputId": "cc49e053-d958-419a-d8b3-7604be5d97c5"
      },
      "source": [
        "# Locally (or on colab) let's use en_core_web_lg \n",
        "!python -m spacy download en_core_web_md # Can do lg, takes awhile\n",
        "# Also on Colab, need to restart runtime after this step!"
      ],
      "execution_count": null,
      "outputs": [
        {
          "output_type": "stream",
          "name": "stdout",
          "text": [
            "Collecting en_core_web_md==2.2.5\n",
            "  Downloading https://github.com/explosion/spacy-models/releases/download/en_core_web_md-2.2.5/en_core_web_md-2.2.5.tar.gz (96.4 MB)\n",
            "\u001b[K     |████████████████████████████████| 96.4 MB 150 kB/s \n",
            "\u001b[?25hRequirement already satisfied: spacy>=2.2.2 in /usr/local/lib/python3.7/dist-packages (from en_core_web_md==2.2.5) (2.2.4)\n",
            "Requirement already satisfied: cymem<2.1.0,>=2.0.2 in /usr/local/lib/python3.7/dist-packages (from spacy>=2.2.2->en_core_web_md==2.2.5) (2.0.6)\n",
            "Requirement already satisfied: catalogue<1.1.0,>=0.0.7 in /usr/local/lib/python3.7/dist-packages (from spacy>=2.2.2->en_core_web_md==2.2.5) (1.0.0)\n",
            "Requirement already satisfied: setuptools in /usr/local/lib/python3.7/dist-packages (from spacy>=2.2.2->en_core_web_md==2.2.5) (57.4.0)\n",
            "Requirement already satisfied: murmurhash<1.1.0,>=0.28.0 in /usr/local/lib/python3.7/dist-packages (from spacy>=2.2.2->en_core_web_md==2.2.5) (1.0.6)\n",
            "Requirement already satisfied: wasabi<1.1.0,>=0.4.0 in /usr/local/lib/python3.7/dist-packages (from spacy>=2.2.2->en_core_web_md==2.2.5) (0.8.2)\n",
            "Requirement already satisfied: numpy>=1.15.0 in /usr/local/lib/python3.7/dist-packages (from spacy>=2.2.2->en_core_web_md==2.2.5) (1.19.5)\n",
            "Requirement already satisfied: plac<1.2.0,>=0.9.6 in /usr/local/lib/python3.7/dist-packages (from spacy>=2.2.2->en_core_web_md==2.2.5) (1.1.3)\n",
            "Requirement already satisfied: thinc==7.4.0 in /usr/local/lib/python3.7/dist-packages (from spacy>=2.2.2->en_core_web_md==2.2.5) (7.4.0)\n",
            "Requirement already satisfied: blis<0.5.0,>=0.4.0 in /usr/local/lib/python3.7/dist-packages (from spacy>=2.2.2->en_core_web_md==2.2.5) (0.4.1)\n",
            "Requirement already satisfied: tqdm<5.0.0,>=4.38.0 in /usr/local/lib/python3.7/dist-packages (from spacy>=2.2.2->en_core_web_md==2.2.5) (4.62.3)\n",
            "Requirement already satisfied: requests<3.0.0,>=2.13.0 in /usr/local/lib/python3.7/dist-packages (from spacy>=2.2.2->en_core_web_md==2.2.5) (2.23.0)\n",
            "Requirement already satisfied: srsly<1.1.0,>=1.0.2 in /usr/local/lib/python3.7/dist-packages (from spacy>=2.2.2->en_core_web_md==2.2.5) (1.0.5)\n",
            "Requirement already satisfied: preshed<3.1.0,>=3.0.2 in /usr/local/lib/python3.7/dist-packages (from spacy>=2.2.2->en_core_web_md==2.2.5) (3.0.6)\n",
            "Requirement already satisfied: importlib-metadata>=0.20 in /usr/local/lib/python3.7/dist-packages (from catalogue<1.1.0,>=0.0.7->spacy>=2.2.2->en_core_web_md==2.2.5) (4.8.2)\n",
            "Requirement already satisfied: typing-extensions>=3.6.4 in /usr/local/lib/python3.7/dist-packages (from importlib-metadata>=0.20->catalogue<1.1.0,>=0.0.7->spacy>=2.2.2->en_core_web_md==2.2.5) (3.10.0.2)\n",
            "Requirement already satisfied: zipp>=0.5 in /usr/local/lib/python3.7/dist-packages (from importlib-metadata>=0.20->catalogue<1.1.0,>=0.0.7->spacy>=2.2.2->en_core_web_md==2.2.5) (3.6.0)\n",
            "Requirement already satisfied: urllib3!=1.25.0,!=1.25.1,<1.26,>=1.21.1 in /usr/local/lib/python3.7/dist-packages (from requests<3.0.0,>=2.13.0->spacy>=2.2.2->en_core_web_md==2.2.5) (1.24.3)\n",
            "Requirement already satisfied: chardet<4,>=3.0.2 in /usr/local/lib/python3.7/dist-packages (from requests<3.0.0,>=2.13.0->spacy>=2.2.2->en_core_web_md==2.2.5) (3.0.4)\n",
            "Requirement already satisfied: idna<3,>=2.5 in /usr/local/lib/python3.7/dist-packages (from requests<3.0.0,>=2.13.0->spacy>=2.2.2->en_core_web_md==2.2.5) (2.10)\n",
            "Requirement already satisfied: certifi>=2017.4.17 in /usr/local/lib/python3.7/dist-packages (from requests<3.0.0,>=2.13.0->spacy>=2.2.2->en_core_web_md==2.2.5) (2021.10.8)\n",
            "Building wheels for collected packages: en-core-web-md\n",
            "  Building wheel for en-core-web-md (setup.py) ... \u001b[?25l\u001b[?25hdone\n",
            "  Created wheel for en-core-web-md: filename=en_core_web_md-2.2.5-py3-none-any.whl size=98051302 sha256=18d2f4ebbe3bcb1619196ec90b5528b6d42e6a8180dfb7295dde0ffa2a3e7485\n",
            "  Stored in directory: /tmp/pip-ephem-wheel-cache-b7qurpmj/wheels/69/c5/b8/4f1c029d89238734311b3269762ab2ee325a42da2ce8edb997\n",
            "Successfully built en-core-web-md\n",
            "Installing collected packages: en-core-web-md\n",
            "Successfully installed en-core-web-md-2.2.5\n",
            "\u001b[38;5;2m✔ Download and installation successful\u001b[0m\n",
            "You can now load the model via spacy.load('en_core_web_md')\n"
          ]
        }
      ]
    },
    {
      "cell_type": "markdown",
      "metadata": {
        "id": "S34mj-a5wwfa"
      },
      "source": [
        "## 0.2 Restart runtime!"
      ]
    },
    {
      "cell_type": "markdown",
      "metadata": {
        "id": "j7nBZY8Z0I4W"
      },
      "source": [
        "## 0.3 Install packages and do imports"
      ]
    },
    {
      "cell_type": "code",
      "metadata": {
        "colab": {
          "base_uri": "https://localhost:8080/"
        },
        "id": "gQuk1Tmf28gG",
        "outputId": "9e729ecf-3f24-4916-87c8-6f2e89c6eafd"
      },
      "source": [
        "!pip install squarify"
      ],
      "execution_count": null,
      "outputs": [
        {
          "output_type": "stream",
          "name": "stdout",
          "text": [
            "Collecting squarify\n",
            "  Downloading squarify-0.4.3-py3-none-any.whl (4.3 kB)\n",
            "Installing collected packages: squarify\n",
            "Successfully installed squarify-0.4.3\n"
          ]
        }
      ]
    },
    {
      "cell_type": "code",
      "metadata": {
        "id": "IIyTZrE3-fNd"
      },
      "source": [
        "import pandas as pd\n",
        "import matplotlib.pyplot as plt\n",
        "%matplotlib inline\n",
        "import seaborn as sns"
      ],
      "execution_count": null,
      "outputs": []
    },
    {
      "cell_type": "markdown",
      "metadata": {
        "id": "H9x5mry3szyk"
      },
      "source": [
        "-----"
      ]
    },
    {
      "cell_type": "markdown",
      "metadata": {
        "id": "xFOEkbR40TZf"
      },
      "source": [
        "## 0.4 Get data"
      ]
    },
    {
      "cell_type": "code",
      "metadata": {
        "id": "NXNgjaqaszyk",
        "colab": {
          "base_uri": "https://localhost:8080/",
          "height": 206
        },
        "outputId": "b18b1208-5d8b-4757-e865-7e407f4e732b"
      },
      "source": [
        "url = \"https://raw.githubusercontent.com/LambdaSchool/DS-Unit-4-Sprint-1-NLP/main/module1-text-data/data/yelp_coffeeshop_review_data.csv\"\n",
        "\n",
        "df = pd.read_csv(url)\n",
        "df.head()"
      ],
      "execution_count": null,
      "outputs": [
        {
          "output_type": "execute_result",
          "data": {
            "text/html": [
              "<div>\n",
              "<style scoped>\n",
              "    .dataframe tbody tr th:only-of-type {\n",
              "        vertical-align: middle;\n",
              "    }\n",
              "\n",
              "    .dataframe tbody tr th {\n",
              "        vertical-align: top;\n",
              "    }\n",
              "\n",
              "    .dataframe thead th {\n",
              "        text-align: right;\n",
              "    }\n",
              "</style>\n",
              "<table border=\"1\" class=\"dataframe\">\n",
              "  <thead>\n",
              "    <tr style=\"text-align: right;\">\n",
              "      <th></th>\n",
              "      <th>coffee_shop_name</th>\n",
              "      <th>full_review_text</th>\n",
              "      <th>star_rating</th>\n",
              "    </tr>\n",
              "  </thead>\n",
              "  <tbody>\n",
              "    <tr>\n",
              "      <th>0</th>\n",
              "      <td>The Factory - Cafe With a Soul</td>\n",
              "      <td>11/25/2016 1 check-in Love love loved the atm...</td>\n",
              "      <td>5.0 star rating</td>\n",
              "    </tr>\n",
              "    <tr>\n",
              "      <th>1</th>\n",
              "      <td>The Factory - Cafe With a Soul</td>\n",
              "      <td>12/2/2016 Listed in Date Night: Austin, Ambia...</td>\n",
              "      <td>4.0 star rating</td>\n",
              "    </tr>\n",
              "    <tr>\n",
              "      <th>2</th>\n",
              "      <td>The Factory - Cafe With a Soul</td>\n",
              "      <td>11/30/2016 1 check-in Listed in Brunch Spots ...</td>\n",
              "      <td>4.0 star rating</td>\n",
              "    </tr>\n",
              "    <tr>\n",
              "      <th>3</th>\n",
              "      <td>The Factory - Cafe With a Soul</td>\n",
              "      <td>11/25/2016 Very cool decor! Good drinks Nice ...</td>\n",
              "      <td>2.0 star rating</td>\n",
              "    </tr>\n",
              "    <tr>\n",
              "      <th>4</th>\n",
              "      <td>The Factory - Cafe With a Soul</td>\n",
              "      <td>12/3/2016 1 check-in They are located within ...</td>\n",
              "      <td>4.0 star rating</td>\n",
              "    </tr>\n",
              "  </tbody>\n",
              "</table>\n",
              "</div>"
            ],
            "text/plain": [
              "                  coffee_shop_name  ...        star_rating\n",
              "0  The Factory - Cafe With a Soul   ...   5.0 star rating \n",
              "1  The Factory - Cafe With a Soul   ...   4.0 star rating \n",
              "2  The Factory - Cafe With a Soul   ...   4.0 star rating \n",
              "3  The Factory - Cafe With a Soul   ...   2.0 star rating \n",
              "4  The Factory - Cafe With a Soul   ...   4.0 star rating \n",
              "\n",
              "[5 rows x 3 columns]"
            ]
          },
          "metadata": {},
          "execution_count": 3
        }
      ]
    },
    {
      "cell_type": "code",
      "metadata": {
        "id": "6fDPYtqqszyl",
        "colab": {
          "base_uri": "https://localhost:8080/",
          "height": 73
        },
        "outputId": "de1fd92d-5177-4302-f0b7-179d76e7d759"
      },
      "source": [
        "df['full_review_text'][0]"
      ],
      "execution_count": null,
      "outputs": [
        {
          "output_type": "execute_result",
          "data": {
            "application/vnd.google.colaboratory.intrinsic+json": {
              "type": "string"
            },
            "text/plain": [
              "' 11/25/2016 1 check-in Love love loved the atmosphere! Every corner of the coffee shop had its own style, and there were swings!!! I ordered the matcha latte, and it was muy fantastico! Ordering and getting my drink were pretty streamlined. I ordered on an iPad, which included all beverage selections that ranged from coffee to wine, desired level of sweetness, and a checkout system. I got my latte within minutes!  I was hoping for a typical heart or feather on my latte, but found myself listing out all the possibilities of what the art may be. Any ideas? '"
            ]
          },
          "metadata": {},
          "execution_count": 4
        }
      ]
    },
    {
      "cell_type": "markdown",
      "metadata": {
        "id": "qDezrvTjxA1G"
      },
      "source": [
        "# 1 Practice: Clean, tokenize, remove stop words, lemmatize"
      ]
    },
    {
      "cell_type": "markdown",
      "metadata": {
        "id": "KXrDeo0Gt257"
      },
      "source": [
        "## 1.0 Save Dates for later use (optional)\n",
        "Each Review starts with a date, we could grab this date and add it as a new column on our dataframe if we want. This could be a valuable feature later on. This isn't absolutely necessary, but might be a good idea. Otherwise we might just be throwing away this useful information when we clean the text.\n",
        "\n"
      ]
    },
    {
      "cell_type": "code",
      "metadata": {
        "id": "VelUfzqOuF2r"
      },
      "source": [
        "# grab date from the beginning of the review text\n",
        "def get_date(text):\n",
        "  return text.split(' ')[1]\n",
        "\n",
        "df['date'] = df['full_review_text'].apply(get_date)"
      ],
      "execution_count": null,
      "outputs": []
    },
    {
      "cell_type": "code",
      "metadata": {
        "colab": {
          "base_uri": "https://localhost:8080/",
          "height": 424
        },
        "id": "5AMm7yNGN83Z",
        "outputId": "d86b5cb0-800f-407f-c82e-c1fd3c7c985f"
      },
      "source": [
        "df"
      ],
      "execution_count": null,
      "outputs": [
        {
          "output_type": "execute_result",
          "data": {
            "text/html": [
              "<div>\n",
              "<style scoped>\n",
              "    .dataframe tbody tr th:only-of-type {\n",
              "        vertical-align: middle;\n",
              "    }\n",
              "\n",
              "    .dataframe tbody tr th {\n",
              "        vertical-align: top;\n",
              "    }\n",
              "\n",
              "    .dataframe thead th {\n",
              "        text-align: right;\n",
              "    }\n",
              "</style>\n",
              "<table border=\"1\" class=\"dataframe\">\n",
              "  <thead>\n",
              "    <tr style=\"text-align: right;\">\n",
              "      <th></th>\n",
              "      <th>coffee_shop_name</th>\n",
              "      <th>full_review_text</th>\n",
              "      <th>star_rating</th>\n",
              "      <th>date</th>\n",
              "    </tr>\n",
              "  </thead>\n",
              "  <tbody>\n",
              "    <tr>\n",
              "      <th>0</th>\n",
              "      <td>The Factory - Cafe With a Soul</td>\n",
              "      <td>11/25/2016 1 check-in Love love loved the atm...</td>\n",
              "      <td>5.0 star rating</td>\n",
              "      <td>11/25/2016</td>\n",
              "    </tr>\n",
              "    <tr>\n",
              "      <th>1</th>\n",
              "      <td>The Factory - Cafe With a Soul</td>\n",
              "      <td>12/2/2016 Listed in Date Night: Austin, Ambia...</td>\n",
              "      <td>4.0 star rating</td>\n",
              "      <td>12/2/2016</td>\n",
              "    </tr>\n",
              "    <tr>\n",
              "      <th>2</th>\n",
              "      <td>The Factory - Cafe With a Soul</td>\n",
              "      <td>11/30/2016 1 check-in Listed in Brunch Spots ...</td>\n",
              "      <td>4.0 star rating</td>\n",
              "      <td>11/30/2016</td>\n",
              "    </tr>\n",
              "    <tr>\n",
              "      <th>3</th>\n",
              "      <td>The Factory - Cafe With a Soul</td>\n",
              "      <td>11/25/2016 Very cool decor! Good drinks Nice ...</td>\n",
              "      <td>2.0 star rating</td>\n",
              "      <td>11/25/2016</td>\n",
              "    </tr>\n",
              "    <tr>\n",
              "      <th>4</th>\n",
              "      <td>The Factory - Cafe With a Soul</td>\n",
              "      <td>12/3/2016 1 check-in They are located within ...</td>\n",
              "      <td>4.0 star rating</td>\n",
              "      <td>12/3/2016</td>\n",
              "    </tr>\n",
              "    <tr>\n",
              "      <th>...</th>\n",
              "      <td>...</td>\n",
              "      <td>...</td>\n",
              "      <td>...</td>\n",
              "      <td>...</td>\n",
              "    </tr>\n",
              "    <tr>\n",
              "      <th>7611</th>\n",
              "      <td>The Steeping Room</td>\n",
              "      <td>2/19/2015 I actually step into this restauran...</td>\n",
              "      <td>4.0 star rating</td>\n",
              "      <td>2/19/2015</td>\n",
              "    </tr>\n",
              "    <tr>\n",
              "      <th>7612</th>\n",
              "      <td>The Steeping Room</td>\n",
              "      <td>1/21/2016 Ok, The Steeping Room IS awesome. H...</td>\n",
              "      <td>5.0 star rating</td>\n",
              "      <td>1/21/2016</td>\n",
              "    </tr>\n",
              "    <tr>\n",
              "      <th>7613</th>\n",
              "      <td>The Steeping Room</td>\n",
              "      <td>4/30/2015 Loved coming here for tea, and the ...</td>\n",
              "      <td>4.0 star rating</td>\n",
              "      <td>4/30/2015</td>\n",
              "    </tr>\n",
              "    <tr>\n",
              "      <th>7614</th>\n",
              "      <td>The Steeping Room</td>\n",
              "      <td>8/2/2015 The food is just average. The booths...</td>\n",
              "      <td>3.0 star rating</td>\n",
              "      <td>8/2/2015</td>\n",
              "    </tr>\n",
              "    <tr>\n",
              "      <th>7615</th>\n",
              "      <td>The Steeping Room</td>\n",
              "      <td>5/23/2015 I finally stopped in for lunch with...</td>\n",
              "      <td>4.0 star rating</td>\n",
              "      <td>5/23/2015</td>\n",
              "    </tr>\n",
              "  </tbody>\n",
              "</table>\n",
              "<p>7616 rows × 4 columns</p>\n",
              "</div>"
            ],
            "text/plain": [
              "                     coffee_shop_name  ...        date\n",
              "0     The Factory - Cafe With a Soul   ...  11/25/2016\n",
              "1     The Factory - Cafe With a Soul   ...   12/2/2016\n",
              "2     The Factory - Cafe With a Soul   ...  11/30/2016\n",
              "3     The Factory - Cafe With a Soul   ...  11/25/2016\n",
              "4     The Factory - Cafe With a Soul   ...   12/3/2016\n",
              "...                               ...  ...         ...\n",
              "7611               The Steeping Room   ...   2/19/2015\n",
              "7612               The Steeping Room   ...   1/21/2016\n",
              "7613               The Steeping Room   ...   4/30/2015\n",
              "7614               The Steeping Room   ...    8/2/2015\n",
              "7615               The Steeping Room   ...   5/23/2015\n",
              "\n",
              "[7616 rows x 4 columns]"
            ]
          },
          "metadata": {},
          "execution_count": 6
        }
      ]
    },
    {
      "cell_type": "code",
      "metadata": {
        "colab": {
          "base_uri": "https://localhost:8080/",
          "height": 36
        },
        "id": "sHFo6eDyvJsb",
        "outputId": "bab952bb-3b76-4551-ceb5-fbe0f2965ce7"
      },
      "source": [
        "# Another approach (we could also use regular expressions to grab the dates)\n",
        "import re\n",
        "\n",
        "def find_first_date(text):\n",
        "  #return re.findall('\\d+\\/\\d+\\/\\d+', text)[0]\n",
        "  return re.findall(r'\\d+/\\d+/\\d+', text)[0]\n",
        "\n",
        "example_text = \" 11/25/2016 1 check-in Love love loved the atmosphere! Every corner of the coffee shop had its own style, and there were swings!!! I ordered the matcha latte, and it was muy fantastico! Ordering and getting my drink were pretty streamlined. I ordered on an iPad, which included all beverage selections that ranged from coffee to wine, desired level of sweetness, and a checkout system. I got my latte within minutes!  I was hoping for a typical heart or feather on my latte, but found myself listing out all the possibilities of what the art may be. Any ideas? \"\n",
        "\n",
        "find_first_date(example_text)"
      ],
      "execution_count": null,
      "outputs": [
        {
          "output_type": "execute_result",
          "data": {
            "application/vnd.google.colaboratory.intrinsic+json": {
              "type": "string"
            },
            "text/plain": [
              "'11/25/2016'"
            ]
          },
          "metadata": {},
          "execution_count": 29
        }
      ]
    },
    {
      "cell_type": "code",
      "metadata": {
        "colab": {
          "base_uri": "https://localhost:8080/"
        },
        "id": "ebJFVk1aynMq",
        "outputId": "d499d798-2f24-4172-8285-394a0796b438"
      },
      "source": [
        "print(df['date'].iloc[0])\n",
        "print(type(df['date'].iloc[0]))"
      ],
      "execution_count": null,
      "outputs": [
        {
          "output_type": "stream",
          "name": "stdout",
          "text": [
            "11/25/2016\n",
            "<class 'str'>\n"
          ]
        }
      ]
    },
    {
      "cell_type": "code",
      "metadata": {
        "id": "yeTdqBchuSad"
      },
      "source": [
        "# turn date column strings into datetime objects\n",
        "df['date'] = pd.to_datetime(df['date'], infer_datetime_format=True)"
      ],
      "execution_count": null,
      "outputs": []
    },
    {
      "cell_type": "code",
      "metadata": {
        "colab": {
          "base_uri": "https://localhost:8080/"
        },
        "id": "JeRhPmpsy1_i",
        "outputId": "ea63385a-28cf-4272-c027-f6a0f8b9ea4a"
      },
      "source": [
        "print(type(df['date'][0]))\n",
        "print(df['date'].iloc[0])"
      ],
      "execution_count": null,
      "outputs": [
        {
          "output_type": "stream",
          "name": "stdout",
          "text": [
            "<class 'pandas._libs.tslibs.timestamps.Timestamp'>\n",
            "2016-11-25 00:00:00\n"
          ]
        }
      ]
    },
    {
      "cell_type": "code",
      "metadata": {
        "colab": {
          "base_uri": "https://localhost:8080/"
        },
        "id": "Z09gKsu9zIWG",
        "outputId": "3d4503f2-021f-4503-8dc0-690fc04f9bd6"
      },
      "source": [
        "dir(df['date'].iloc[0])"
      ],
      "execution_count": null,
      "outputs": [
        {
          "output_type": "execute_result",
          "data": {
            "text/plain": [
              "['__add__',\n",
              " '__array_priority__',\n",
              " '__class__',\n",
              " '__delattr__',\n",
              " '__dict__',\n",
              " '__dir__',\n",
              " '__doc__',\n",
              " '__eq__',\n",
              " '__format__',\n",
              " '__ge__',\n",
              " '__getattribute__',\n",
              " '__gt__',\n",
              " '__hash__',\n",
              " '__init__',\n",
              " '__init_subclass__',\n",
              " '__le__',\n",
              " '__lt__',\n",
              " '__module__',\n",
              " '__ne__',\n",
              " '__new__',\n",
              " '__pyx_vtable__',\n",
              " '__radd__',\n",
              " '__reduce__',\n",
              " '__reduce_cython__',\n",
              " '__reduce_ex__',\n",
              " '__repr__',\n",
              " '__rsub__',\n",
              " '__setattr__',\n",
              " '__setstate__',\n",
              " '__setstate_cython__',\n",
              " '__sizeof__',\n",
              " '__str__',\n",
              " '__sub__',\n",
              " '__subclasshook__',\n",
              " '__weakref__',\n",
              " '_date_repr',\n",
              " '_repr_base',\n",
              " '_round',\n",
              " '_short_repr',\n",
              " '_time_repr',\n",
              " 'asm8',\n",
              " 'astimezone',\n",
              " 'ceil',\n",
              " 'combine',\n",
              " 'ctime',\n",
              " 'date',\n",
              " 'day',\n",
              " 'day_name',\n",
              " 'dayofweek',\n",
              " 'dayofyear',\n",
              " 'days_in_month',\n",
              " 'daysinmonth',\n",
              " 'dst',\n",
              " 'floor',\n",
              " 'fold',\n",
              " 'freq',\n",
              " 'freqstr',\n",
              " 'fromisoformat',\n",
              " 'fromordinal',\n",
              " 'fromtimestamp',\n",
              " 'hour',\n",
              " 'is_leap_year',\n",
              " 'is_month_end',\n",
              " 'is_month_start',\n",
              " 'is_quarter_end',\n",
              " 'is_quarter_start',\n",
              " 'is_year_end',\n",
              " 'is_year_start',\n",
              " 'isocalendar',\n",
              " 'isoformat',\n",
              " 'isoweekday',\n",
              " 'max',\n",
              " 'microsecond',\n",
              " 'min',\n",
              " 'minute',\n",
              " 'month',\n",
              " 'month_name',\n",
              " 'nanosecond',\n",
              " 'normalize',\n",
              " 'now',\n",
              " 'quarter',\n",
              " 'replace',\n",
              " 'resolution',\n",
              " 'round',\n",
              " 'second',\n",
              " 'strftime',\n",
              " 'strptime',\n",
              " 'time',\n",
              " 'timestamp',\n",
              " 'timetuple',\n",
              " 'timetz',\n",
              " 'to_datetime64',\n",
              " 'to_julian_date',\n",
              " 'to_numpy',\n",
              " 'to_period',\n",
              " 'to_pydatetime',\n",
              " 'today',\n",
              " 'toordinal',\n",
              " 'tz',\n",
              " 'tz_convert',\n",
              " 'tz_localize',\n",
              " 'tzinfo',\n",
              " 'tzname',\n",
              " 'utcfromtimestamp',\n",
              " 'utcnow',\n",
              " 'utcoffset',\n",
              " 'utctimetuple',\n",
              " 'value',\n",
              " 'week',\n",
              " 'weekday',\n",
              " 'weekofyear',\n",
              " 'year']"
            ]
          },
          "metadata": {},
          "execution_count": 16
        }
      ]
    },
    {
      "cell_type": "code",
      "metadata": {
        "colab": {
          "base_uri": "https://localhost:8080/",
          "height": 36
        },
        "id": "cKV6JkwUzVnJ",
        "outputId": "550ddb1b-5c5a-4a88-90b1-ffa2c4184a01"
      },
      "source": [
        "df['date'].iloc[0].day_name()"
      ],
      "execution_count": null,
      "outputs": [
        {
          "output_type": "execute_result",
          "data": {
            "application/vnd.google.colaboratory.intrinsic+json": {
              "type": "string"
            },
            "text/plain": [
              "'Friday'"
            ]
          },
          "metadata": {},
          "execution_count": 24
        }
      ]
    },
    {
      "cell_type": "code",
      "metadata": {
        "colab": {
          "base_uri": "https://localhost:8080/",
          "height": 206
        },
        "id": "cuxXAcl8uIsn",
        "outputId": "f32e37c6-6b6f-4741-9384-d503bd8e67d0"
      },
      "source": [
        "df.head()"
      ],
      "execution_count": null,
      "outputs": [
        {
          "output_type": "execute_result",
          "data": {
            "text/html": [
              "<div>\n",
              "<style scoped>\n",
              "    .dataframe tbody tr th:only-of-type {\n",
              "        vertical-align: middle;\n",
              "    }\n",
              "\n",
              "    .dataframe tbody tr th {\n",
              "        vertical-align: top;\n",
              "    }\n",
              "\n",
              "    .dataframe thead th {\n",
              "        text-align: right;\n",
              "    }\n",
              "</style>\n",
              "<table border=\"1\" class=\"dataframe\">\n",
              "  <thead>\n",
              "    <tr style=\"text-align: right;\">\n",
              "      <th></th>\n",
              "      <th>coffee_shop_name</th>\n",
              "      <th>full_review_text</th>\n",
              "      <th>star_rating</th>\n",
              "      <th>date</th>\n",
              "    </tr>\n",
              "  </thead>\n",
              "  <tbody>\n",
              "    <tr>\n",
              "      <th>0</th>\n",
              "      <td>The Factory - Cafe With a Soul</td>\n",
              "      <td>11/25/2016 1 check-in Love love loved the atm...</td>\n",
              "      <td>5.0 star rating</td>\n",
              "      <td>2016-11-25</td>\n",
              "    </tr>\n",
              "    <tr>\n",
              "      <th>1</th>\n",
              "      <td>The Factory - Cafe With a Soul</td>\n",
              "      <td>12/2/2016 Listed in Date Night: Austin, Ambia...</td>\n",
              "      <td>4.0 star rating</td>\n",
              "      <td>2016-12-02</td>\n",
              "    </tr>\n",
              "    <tr>\n",
              "      <th>2</th>\n",
              "      <td>The Factory - Cafe With a Soul</td>\n",
              "      <td>11/30/2016 1 check-in Listed in Brunch Spots ...</td>\n",
              "      <td>4.0 star rating</td>\n",
              "      <td>2016-11-30</td>\n",
              "    </tr>\n",
              "    <tr>\n",
              "      <th>3</th>\n",
              "      <td>The Factory - Cafe With a Soul</td>\n",
              "      <td>11/25/2016 Very cool decor! Good drinks Nice ...</td>\n",
              "      <td>2.0 star rating</td>\n",
              "      <td>2016-11-25</td>\n",
              "    </tr>\n",
              "    <tr>\n",
              "      <th>4</th>\n",
              "      <td>The Factory - Cafe With a Soul</td>\n",
              "      <td>12/3/2016 1 check-in They are located within ...</td>\n",
              "      <td>4.0 star rating</td>\n",
              "      <td>2016-12-03</td>\n",
              "    </tr>\n",
              "  </tbody>\n",
              "</table>\n",
              "</div>"
            ],
            "text/plain": [
              "                  coffee_shop_name  ...       date\n",
              "0  The Factory - Cafe With a Soul   ... 2016-11-25\n",
              "1  The Factory - Cafe With a Soul   ... 2016-12-02\n",
              "2  The Factory - Cafe With a Soul   ... 2016-11-30\n",
              "3  The Factory - Cafe With a Soul   ... 2016-11-25\n",
              "4  The Factory - Cafe With a Soul   ... 2016-12-03\n",
              "\n",
              "[5 rows x 4 columns]"
            ]
          },
          "metadata": {},
          "execution_count": 19
        }
      ]
    },
    {
      "cell_type": "code",
      "metadata": {
        "colab": {
          "base_uri": "https://localhost:8080/"
        },
        "id": "5OdgeYLv0PU5",
        "outputId": "181edd2f-c6ab-4b5f-b809-df9407382a72"
      },
      "source": [
        "df['star_rating'].unique()"
      ],
      "execution_count": null,
      "outputs": [
        {
          "output_type": "execute_result",
          "data": {
            "text/plain": [
              "array([' 5.0 star rating ', ' 4.0 star rating ', ' 2.0 star rating ',\n",
              "       ' 3.0 star rating ', ' 1.0 star rating '], dtype=object)"
            ]
          },
          "metadata": {},
          "execution_count": 27
        }
      ]
    },
    {
      "cell_type": "code",
      "metadata": {
        "colab": {
          "base_uri": "https://localhost:8080/"
        },
        "id": "L7Nt13a_0FU8",
        "outputId": "55e8ca2c-bfe2-4c4c-cde5-e417f64afb48"
      },
      "source": [
        "df['star_rating'].value_counts()"
      ],
      "execution_count": null,
      "outputs": [
        {
          "output_type": "execute_result",
          "data": {
            "text/plain": [
              " 5.0 star rating     3780\n",
              " 4.0 star rating     2360\n",
              " 3.0 star rating      738\n",
              " 2.0 star rating      460\n",
              " 1.0 star rating      278\n",
              "Name: star_rating, dtype: int64"
            ]
          },
          "metadata": {},
          "execution_count": 26
        }
      ]
    },
    {
      "cell_type": "code",
      "metadata": {
        "colab": {
          "base_uri": "https://localhost:8080/"
        },
        "id": "KvuvWTk4uLhJ",
        "outputId": "79dc7fcc-745d-4c5a-ed63-ae330732a893"
      },
      "source": [
        "# looks like most dates are in late 2016\n",
        "df['date'].value_counts()"
      ],
      "execution_count": null,
      "outputs": [
        {
          "output_type": "execute_result",
          "data": {
            "text/plain": [
              "2016-10-09    31\n",
              "2016-09-18    30\n",
              "2016-11-02    27\n",
              "2016-11-20    27\n",
              "2016-12-02    26\n",
              "              ..\n",
              "2014-10-03     1\n",
              "2010-09-05     1\n",
              "2012-11-15     1\n",
              "2007-12-10     1\n",
              "2009-09-18     1\n",
              "Name: date, Length: 1592, dtype: int64"
            ]
          },
          "metadata": {},
          "execution_count": 20
        }
      ]
    },
    {
      "cell_type": "code",
      "metadata": {
        "colab": {
          "base_uri": "https://localhost:8080/",
          "height": 265
        },
        "id": "qEqwsjWFucJb",
        "outputId": "cf98a66b-79f5-4099-a2ea-7e2b1a5c9d61"
      },
      "source": [
        "# histogram of review dates to see when most reviews were left\n",
        "# just a little EDA\n",
        "df['date'].hist(bins=20);"
      ],
      "execution_count": null,
      "outputs": [
        {
          "output_type": "display_data",
          "data": {
            "image/png": "[encoded data removed]",
            "text/plain": [
              "<Figure size 432x288 with 1 Axes>"
            ]
          },
          "metadata": {
            "needs_background": "light"
          }
        }
      ]
    },
    {
      "cell_type": "markdown",
      "metadata": {
        "id": "1zbOpqPEusdt"
      },
      "source": [
        "## 1.1 Clean Review Text (with Regular Expressions `regex`)\n",
        "dataquest has a good [regex reference](https://www.dataquest.io/wp-content/uploads/2019/03/python-regular-expressions-cheat-sheet.pdf\n",
        ")\n",
        "\n",
        "It looks like the reviews have the following characteristics\n",
        "\n",
        "- Date at the beginning \n",
        "- Lots of punctuation \n",
        "- Use special characters like $ (as well as dollar amounts)\n",
        "- Upper and lower case words"
      ]
    },
    {
      "cell_type": "code",
      "metadata": {
        "id": "386V8zRuszyp"
      },
      "source": [
        "import re\n",
        "# considering using regex to remove dates\n",
        "# you can create and test regular expressions on this online regex editor: https://regex101.com/\n",
        "    \n",
        "def clean_data(text):\n",
        "    \"\"\"\n",
        "    Accepts a single text document and performs several regex substitutions in order to clean the document. \n",
        "    \n",
        "    Parameters\n",
        "    ----------\n",
        "    text: string or object \n",
        "    \n",
        "    Returns\n",
        "    -------\n",
        "    text: string or object\n",
        "    \"\"\"\n",
        "    \n",
        "    # order of operations - apply the expression from top to bottom\n",
        "    date_regex = r\"\\d+/\\d+/\\d+\"\n",
        "    punct_regex = r\"[^0-9a-zA-Z\\s]\" # any non-alphanumeric chars\n",
        "    special_chars_regex = r\"[\\$\\%\\&\\@+]\" \n",
        "    numerical_regex =  YOUR CODE HERE  # match one or more digits\n",
        "    \n",
        "    # Replace any strings matching the above regex patterns with blank strings\n",
        "    # (effectively removing them from the text)\n",
        "    text = re.sub(date_regex, \"\", text)\n",
        "    text = re.sub(punct_regex, \"\", text)\n",
        "    text = re.sub(special_chars_regex, \"\", text)\n",
        "    text = re.sub(numerical_regex, \"\", text)\n",
        "\n",
        "    # match one or more whitespace chars\n",
        "    whitespace_regex = YOUR CODE HERE \n",
        "    # replace one or more whitespace characters with a single white space char\n",
        "    #    not a blank string!\n",
        "    text = YOUR CODE HERE \n",
        "\n",
        "\n",
        "    # apply case normalization\n",
        "    text = YOUR CODE HERE\n",
        "    return text"
      ],
      "execution_count": null,
      "outputs": []
    },
    {
      "cell_type": "code",
      "metadata": {
        "id": "GpKDTXfRszyp",
        "colab": {
          "base_uri": "https://localhost:8080/",
          "height": 87
        },
        "outputId": "0cb6a0a1-07de-44cd-d42d-7a5b025a7a38"
      },
      "source": [
        "df['cleaned_review'] = df['full_review_text'].apply(clean_data)\n",
        "\n",
        "df['cleaned_review'][0]"
      ],
      "execution_count": null,
      "outputs": [
        {
          "output_type": "execute_result",
          "data": {
            "application/vnd.google.colaboratory.intrinsic+json": {
              "type": "string"
            },
            "text/plain": [
              "'checkin love love loved the atmosphere every corner of the coffee shop had its own style and there were swings i ordered the matcha latte and it was muy fantastico ordering and getting my drink were pretty streamlined i ordered on an ipad which included all beverage selections that ranged from coffee to wine desired level of sweetness and a checkout system i got my latte within minutes i was hoping for a typical heart or feather on my latte but found myself listing out all the possibilities of what the art may be any ideas'"
            ]
          },
          "metadata": {},
          "execution_count": 12
        }
      ]
    },
    {
      "cell_type": "markdown",
      "metadata": {
        "id": "jYZSZec_szyr"
      },
      "source": [
        "## 1.2. Tokenize the cleaned up reviews"
      ]
    },
    {
      "cell_type": "code",
      "metadata": {
        "colab": {
          "base_uri": "https://localhost:8080/",
          "height": 205
        },
        "id": "KtzqhppBxUke",
        "outputId": "76bd5d29-500a-446f-fc96-bd34842367f0"
      },
      "source": [
        "# with a for loop\n",
        "tokens = []\n",
        "for review in df['cleaned_review']:\n",
        "  tokens.append(review.split(' '))\n",
        "\n",
        "df['tokens'] = tokens\n",
        "\n",
        "df.head()"
      ],
      "execution_count": null,
      "outputs": [
        {
          "output_type": "execute_result",
          "data": {
            "text/html": [
              "<div>\n",
              "<style scoped>\n",
              "    .dataframe tbody tr th:only-of-type {\n",
              "        vertical-align: middle;\n",
              "    }\n",
              "\n",
              "    .dataframe tbody tr th {\n",
              "        vertical-align: top;\n",
              "    }\n",
              "\n",
              "    .dataframe thead th {\n",
              "        text-align: right;\n",
              "    }\n",
              "</style>\n",
              "<table border=\"1\" class=\"dataframe\">\n",
              "  <thead>\n",
              "    <tr style=\"text-align: right;\">\n",
              "      <th></th>\n",
              "      <th>coffee_shop_name</th>\n",
              "      <th>full_review_text</th>\n",
              "      <th>star_rating</th>\n",
              "      <th>date</th>\n",
              "      <th>cleaned_review</th>\n",
              "      <th>tokens</th>\n",
              "    </tr>\n",
              "  </thead>\n",
              "  <tbody>\n",
              "    <tr>\n",
              "      <th>0</th>\n",
              "      <td>The Factory - Cafe With a Soul</td>\n",
              "      <td>11/25/2016 1 check-in Love love loved the atm...</td>\n",
              "      <td>5.0 star rating</td>\n",
              "      <td>2016-11-25</td>\n",
              "      <td>checkin love love loved the atmosphere every c...</td>\n",
              "      <td>[checkin, love, love, loved, the, atmosphere, ...</td>\n",
              "    </tr>\n",
              "    <tr>\n",
              "      <th>1</th>\n",
              "      <td>The Factory - Cafe With a Soul</td>\n",
              "      <td>12/2/2016 Listed in Date Night: Austin, Ambia...</td>\n",
              "      <td>4.0 star rating</td>\n",
              "      <td>2016-12-02</td>\n",
              "      <td>listed in date night austin ambiance in austin...</td>\n",
              "      <td>[listed, in, date, night, austin, ambiance, in...</td>\n",
              "    </tr>\n",
              "    <tr>\n",
              "      <th>2</th>\n",
              "      <td>The Factory - Cafe With a Soul</td>\n",
              "      <td>11/30/2016 1 check-in Listed in Brunch Spots ...</td>\n",
              "      <td>4.0 star rating</td>\n",
              "      <td>2016-11-30</td>\n",
              "      <td>checkin listed in brunch spots i loved the ecl...</td>\n",
              "      <td>[checkin, listed, in, brunch, spots, i, loved,...</td>\n",
              "    </tr>\n",
              "    <tr>\n",
              "      <th>3</th>\n",
              "      <td>The Factory - Cafe With a Soul</td>\n",
              "      <td>11/25/2016 Very cool decor! Good drinks Nice ...</td>\n",
              "      <td>2.0 star rating</td>\n",
              "      <td>2016-11-25</td>\n",
              "      <td>very cool decor good drinks nice seating howev...</td>\n",
              "      <td>[very, cool, decor, good, drinks, nice, seatin...</td>\n",
              "    </tr>\n",
              "    <tr>\n",
              "      <th>4</th>\n",
              "      <td>The Factory - Cafe With a Soul</td>\n",
              "      <td>12/3/2016 1 check-in They are located within ...</td>\n",
              "      <td>4.0 star rating</td>\n",
              "      <td>2016-12-03</td>\n",
              "      <td>checkin they are located within the northcross...</td>\n",
              "      <td>[checkin, they, are, located, within, the, nor...</td>\n",
              "    </tr>\n",
              "  </tbody>\n",
              "</table>\n",
              "</div>"
            ],
            "text/plain": [
              "                  coffee_shop_name  ...                                             tokens\n",
              "0  The Factory - Cafe With a Soul   ...  [checkin, love, love, loved, the, atmosphere, ...\n",
              "1  The Factory - Cafe With a Soul   ...  [listed, in, date, night, austin, ambiance, in...\n",
              "2  The Factory - Cafe With a Soul   ...  [checkin, listed, in, brunch, spots, i, loved,...\n",
              "3  The Factory - Cafe With a Soul   ...  [very, cool, decor, good, drinks, nice, seatin...\n",
              "4  The Factory - Cafe With a Soul   ...  [checkin, they, are, located, within, the, nor...\n",
              "\n",
              "[5 rows x 6 columns]"
            ]
          },
          "metadata": {},
          "execution_count": 13
        }
      ]
    },
    {
      "cell_type": "code",
      "metadata": {
        "colab": {
          "base_uri": "https://localhost:8080/"
        },
        "id": "YwpERv5xQQMS",
        "outputId": "2966d3d8-1356-418f-dd5e-e8d6c0e5da70"
      },
      "source": [
        "df.info()"
      ],
      "execution_count": null,
      "outputs": [
        {
          "output_type": "stream",
          "name": "stdout",
          "text": [
            "<class 'pandas.core.frame.DataFrame'>\n",
            "RangeIndex: 7616 entries, 0 to 7615\n",
            "Data columns (total 4 columns):\n",
            " #   Column            Non-Null Count  Dtype         \n",
            "---  ------            --------------  -----         \n",
            " 0   coffee_shop_name  7616 non-null   object        \n",
            " 1   full_review_text  7616 non-null   object        \n",
            " 2   star_rating       7616 non-null   object        \n",
            " 3   date              7616 non-null   datetime64[ns]\n",
            "dtypes: datetime64[ns](1), object(3)\n",
            "memory usage: 238.1+ KB\n"
          ]
        }
      ]
    },
    {
      "cell_type": "code",
      "metadata": {
        "colab": {
          "base_uri": "https://localhost:8080/",
          "height": 205
        },
        "id": "7BIHIfFyxycq",
        "outputId": "c87caa67-5a2e-4b07-d342-fab65c03e59b"
      },
      "source": [
        "# with a list comprehension\n",
        "df['tokens'] = YOUR CODE HERE\n",
        "df.head()"
      ],
      "execution_count": null,
      "outputs": [
        {
          "output_type": "execute_result",
          "data": {
            "text/html": [
              "<div>\n",
              "<style scoped>\n",
              "    .dataframe tbody tr th:only-of-type {\n",
              "        vertical-align: middle;\n",
              "    }\n",
              "\n",
              "    .dataframe tbody tr th {\n",
              "        vertical-align: top;\n",
              "    }\n",
              "\n",
              "    .dataframe thead th {\n",
              "        text-align: right;\n",
              "    }\n",
              "</style>\n",
              "<table border=\"1\" class=\"dataframe\">\n",
              "  <thead>\n",
              "    <tr style=\"text-align: right;\">\n",
              "      <th></th>\n",
              "      <th>coffee_shop_name</th>\n",
              "      <th>full_review_text</th>\n",
              "      <th>star_rating</th>\n",
              "      <th>date</th>\n",
              "      <th>cleaned_review</th>\n",
              "      <th>tokens</th>\n",
              "    </tr>\n",
              "  </thead>\n",
              "  <tbody>\n",
              "    <tr>\n",
              "      <th>0</th>\n",
              "      <td>The Factory - Cafe With a Soul</td>\n",
              "      <td>11/25/2016 1 check-in Love love loved the atm...</td>\n",
              "      <td>5.0 star rating</td>\n",
              "      <td>2016-11-25</td>\n",
              "      <td>checkin love love loved the atmosphere every c...</td>\n",
              "      <td>[checkin, love, love, loved, the, atmosphere, ...</td>\n",
              "    </tr>\n",
              "    <tr>\n",
              "      <th>1</th>\n",
              "      <td>The Factory - Cafe With a Soul</td>\n",
              "      <td>12/2/2016 Listed in Date Night: Austin, Ambia...</td>\n",
              "      <td>4.0 star rating</td>\n",
              "      <td>2016-12-02</td>\n",
              "      <td>listed in date night austin ambiance in austin...</td>\n",
              "      <td>[listed, in, date, night, austin, ambiance, in...</td>\n",
              "    </tr>\n",
              "    <tr>\n",
              "      <th>2</th>\n",
              "      <td>The Factory - Cafe With a Soul</td>\n",
              "      <td>11/30/2016 1 check-in Listed in Brunch Spots ...</td>\n",
              "      <td>4.0 star rating</td>\n",
              "      <td>2016-11-30</td>\n",
              "      <td>checkin listed in brunch spots i loved the ecl...</td>\n",
              "      <td>[checkin, listed, in, brunch, spots, i, loved,...</td>\n",
              "    </tr>\n",
              "    <tr>\n",
              "      <th>3</th>\n",
              "      <td>The Factory - Cafe With a Soul</td>\n",
              "      <td>11/25/2016 Very cool decor! Good drinks Nice ...</td>\n",
              "      <td>2.0 star rating</td>\n",
              "      <td>2016-11-25</td>\n",
              "      <td>very cool decor good drinks nice seating howev...</td>\n",
              "      <td>[very, cool, decor, good, drinks, nice, seatin...</td>\n",
              "    </tr>\n",
              "    <tr>\n",
              "      <th>4</th>\n",
              "      <td>The Factory - Cafe With a Soul</td>\n",
              "      <td>12/3/2016 1 check-in They are located within ...</td>\n",
              "      <td>4.0 star rating</td>\n",
              "      <td>2016-12-03</td>\n",
              "      <td>checkin they are located within the northcross...</td>\n",
              "      <td>[checkin, they, are, located, within, the, nor...</td>\n",
              "    </tr>\n",
              "  </tbody>\n",
              "</table>\n",
              "</div>"
            ],
            "text/plain": [
              "                  coffee_shop_name  ...                                             tokens\n",
              "0  The Factory - Cafe With a Soul   ...  [checkin, love, love, loved, the, atmosphere, ...\n",
              "1  The Factory - Cafe With a Soul   ...  [listed, in, date, night, austin, ambiance, in...\n",
              "2  The Factory - Cafe With a Soul   ...  [checkin, listed, in, brunch, spots, i, loved,...\n",
              "3  The Factory - Cafe With a Soul   ...  [very, cool, decor, good, drinks, nice, seatin...\n",
              "4  The Factory - Cafe With a Soul   ...  [checkin, they, are, located, within, the, nor...\n",
              "\n",
              "[5 rows x 6 columns]"
            ]
          },
          "metadata": {},
          "execution_count": 14
        }
      ]
    },
    {
      "cell_type": "markdown",
      "metadata": {
        "id": "ct0RJaQQ2FoX"
      },
      "source": [
        "### 1.3 Visualize the most common tokens\n",
        "Below is the `count()` function that we used in the lecture."
      ]
    },
    {
      "cell_type": "code",
      "metadata": {
        "id": "ypyH-_x1GErX"
      },
      "source": [
        "from collections import Counter\n",
        "\n",
        "def count(token_lists):\n",
        "    \"\"\"\n",
        "    Calculates some basic statistics about tokens in our corpus (i.e. corpus means collections text data)\n",
        "    \"\"\"\n",
        "    # stores the count of each token\n",
        "    word_counts = Counter()\n",
        "    \n",
        "    # stores the number of docs that each token appears in \n",
        "    appears_in_docs = Counter()\n",
        "\n",
        "    total_docs = len(token_lists)\n",
        "\n",
        "    for token_list in token_lists:\n",
        "        # stores count of every appearance of a token \n",
        "        word_counts.update(token_list)\n",
        "        \n",
        "        # use set() in order to not count duplicates, thereby count the num of docs that each token appears in\n",
        "        appears_in_docs.update(set(token_list))\n",
        "\n",
        "    # build word count dataframe\n",
        "    word_count_dict = zip(word_counts.keys(), word_counts.values())\n",
        "    wc = pd.DataFrame(word_count_dict, columns = ['word', 'count'])\n",
        "\n",
        "    # rank the the word counts\n",
        "    wc['rank'] = wc['count'].rank(method='first', ascending=False)\n",
        "    total = wc['count'].sum()\n",
        "\n",
        "    # calculate the percent total of each token\n",
        "    wc['fraction_of_total'] = wc['count'].apply(lambda token_count: token_count / total)\n",
        "\n",
        "    # calculate the cumulative percent total of word counts \n",
        "    wc = wc.sort_values(by='rank')\n",
        "    wc['cumulative_fraction_of_total'] = wc['fraction_of_total'].cumsum()\n",
        "\n",
        "    # create dataframe for document stats\n",
        "    t2 = zip(appears_in_docs.keys(), appears_in_docs.values())\n",
        "    ac = pd.DataFrame(t2, columns=['word', 'appears_in_docs'])\n",
        "    \n",
        "    # merge word count stats with doc stats\n",
        "    wc = ac.merge(wc, on='word')\n",
        "\n",
        "    wc['appears_in_fraction_of_docs'] = wc['appears_in_docs'].apply(lambda x: x / total_docs)\n",
        "\n",
        "    return wc.sort_values(by='rank')"
      ],
      "execution_count": null,
      "outputs": []
    },
    {
      "cell_type": "markdown",
      "metadata": {
        "id": "cBoda7E4S5K_"
      },
      "source": [
        "#### Summary of the descriptive token statistics \n",
        "\n",
        "`word` The specific token that is being analyzed\n",
        "\n",
        "`appears_in_docs` Number of documents that the word/token appears in\n",
        "\n",
        "`count` The total number of appearances of that token within the corpus \n",
        "\n",
        "`rank` Ranking of tokens by count \n",
        "\n",
        "`fraction_of_total` Fraction of the total tokens that this token makes up\n",
        "\n",
        "`cumulative_fraction_of_total` Sum of fractional total of ranked tokens, down to and including this token. \n",
        "\n",
        "`appears_in_fraction_of_docs` Fraction of documents that token appears in "
      ]
    },
    {
      "cell_type": "code",
      "metadata": {
        "colab": {
          "base_uri": "https://localhost:8080/",
          "height": 248
        },
        "id": "JWIXe-TK2zhU",
        "outputId": "375832e9-41eb-431d-b48a-27b491523594"
      },
      "source": [
        "# visualize the 20 most common tokens with squarify\n",
        "# Lots of stopwords!\n",
        "\n",
        "#YOUR CODE HERE\n",
        "wc = \n",
        "\n",
        "\n",
        "squarify.plot(sizes=, label=, alpha=.8 )\n",
        "#\n",
        "plt.axis('off')\n",
        "plt.show()"
      ],
      "execution_count": null,
      "outputs": [
        {
          "output_type": "display_data",
          "data": {
            "image/png": "[encoded data removed]",
            "text/plain": [
              "<Figure size 432x288 with 1 Axes>"
            ]
          },
          "metadata": {
            "needs_background": "light"
          }
        }
      ]
    },
    {
      "cell_type": "markdown",
      "metadata": {
        "id": "wbB72j8YyNYB"
      },
      "source": [
        "## 1.4 Clean, tokenize, remove stopwords, and lemmatize the reviews (with Spacy)\n",
        "\n",
        "We can do all of the above with Spacy, but Spacy has the added benefit of making it easy to lemmatize tokens and remove stop words as well! Let's write a tokenize function with Spacy. "
      ]
    },
    {
      "cell_type": "code",
      "metadata": {
        "id": "0j3WsTt4szyr"
      },
      "source": [
        "import spacy\n",
        "# import the large version of the pre-trained model\n",
        "# depending on your computational resources/limitations, you might need to download and load in a smaller version of the model \n",
        "# see the spaCy docs: https://spacy.io/models/en\n",
        "nlp = ... #YOUR CODE HERE"
      ],
      "execution_count": null,
      "outputs": []
    },
    {
      "cell_type": "markdown",
      "metadata": {
        "id": "GiXS6ZOT02vN"
      },
      "source": [
        "## Remove stop word, punctuation and whitespace from each token"
      ]
    },
    {
      "cell_type": "code",
      "metadata": {
        "id": "YXgZXLPEszyr"
      },
      "source": [
        "# this will take longer to run than a regex method because Spacy is doing a fair amount\n",
        "# of extra stuff under the hood in creating the token attributes and everything.\n",
        "\n",
        "def spacy_tokenizer(text):\n",
        "    \"\"\"\n",
        "    Use the pre-trained model from Space to tokenize our text into lemmas \n",
        "    \n",
        "    Notes\n",
        "    -----\n",
        "    Rememeber that the pre-trained spaCy model has a lot of built in flags for what kind of token each token is\n",
        "    so we can use that functionality to create filters for stop words, white spaces, punctuation, and so on!\n",
        "    \n",
        "    See list of flags here: https://spacy.io/api/token#attributes\n",
        "    \n",
        "    Parameter\n",
        "    ---------\n",
        "    text: string\n",
        "        Full text article/document that needs to be tokenized \n",
        "    \"\"\"\n",
        "    tokens = []\n",
        "    for token in nlp(text):\n",
        "        # if statement will filter out stopwords, punctuation, and whitespace\n",
        "        # COMPLETE THE CODE HERE\n",
        "        if ( ... ):\n",
        "            # Now lemmatize!\n",
        "            tokens.append(token.?)\n",
        "    \n",
        "    return tokens"
      ],
      "execution_count": null,
      "outputs": []
    },
    {
      "cell_type": "code",
      "metadata": {
        "colab": {
          "base_uri": "https://localhost:8080/",
          "height": 127
        },
        "id": "7fMRJMoZ_5Aq",
        "outputId": "84949d10-b6b2-4c65-9fb3-e94b92d53bae"
      },
      "source": [
        "df['full_review_text'][10]"
      ],
      "execution_count": null,
      "outputs": [
        {
          "output_type": "execute_result",
          "data": {
            "application/vnd.google.colaboratory.intrinsic+json": {
              "type": "string"
            },
            "text/plain": [
              "' 10/22/2016 1 check-in Listed in Americano This is not your average cute study spot cafe.  Location/ Atmosphere: + Easy parking at the lot + Cute and classy interior decor! + Plenty of seats available (couches, swings, high chairs, etc) + Games like chess & tic tac toe available - No sign of outlets/ charging port on the walls - No wifi available - Not a study cafe unless you have all your papers printed out and don\\'t need the internet  Service: o You order by yourself using an iPad up at the counter. + There are 3 iPads available making lines go by faster. + You can request them to text you upon your order being ready + When I told one of the baristas that the fork bin was empty, he kindly brought it over to our table along with a couple of knives! - There was no option to make drinks half sweetened/ less ice on the iPad screen :\"(  Food/ Prices: + Highly recommend the Matcha Latte (it was thick and made to perfection!) + The chicken and waffle was well seasoned! + Aesthetically super cute - I didn\\'t enjoy the Milk Tea as much (It was way too sweet for me and had a super unique taste to it.) - Snack size portions, $$ Price tag of a Meal - The sides of corn/ coleslaw came out in a tiny cup - It was ~$7 for a cup of milk tea and ~$8 for the snack sized Chicken and Waffle - We were still pretty hungry after and even considered driving over to Tarka for some real food.  I\\'d come here again to socialize (when I\\'m less busy with schoolwork) but really only for the Matcha Latte & the classy atmosphere. If you haven\\'t had lunch/ dinner, don\\'t come here to fill your tummy up :\"o Matcha latte, Chicken & Waffle, Nutella Waffle, and Hot milk tea Matcha latte, Chicken & Waffle, Nutella Waffle, and Hot milk tea '"
            ]
          },
          "metadata": {},
          "execution_count": 7
        }
      ]
    },
    {
      "cell_type": "code",
      "metadata": {
        "id": "SAuDB46Fszys",
        "colab": {
          "base_uri": "https://localhost:8080/"
        },
        "outputId": "18731d37-72f1-42f7-884c-bc46a4e98215"
      },
      "source": [
        "# This code cell takes ~ 3 minutes on Google Colab\n",
        "%%time \n",
        "# YOUR CODE HERE\n",
        "df['spacy_tokens'] = df['?'].apply(?)"
      ],
      "execution_count": null,
      "outputs": [
        {
          "output_type": "stream",
          "text": [
            "CPU times: user 3min 17s, sys: 1.2 s, total: 3min 18s\n",
            "Wall time: 3min 18s\n"
          ],
          "name": "stdout"
        }
      ]
    },
    {
      "cell_type": "code",
      "metadata": {
        "colab": {
          "base_uri": "https://localhost:8080/",
          "height": 292
        },
        "id": "o6ERmwRL1_xX",
        "outputId": "48e98d29-7411-4d86-e75e-e14001b7bb65"
      },
      "source": [
        "df.head()"
      ],
      "execution_count": null,
      "outputs": [
        {
          "output_type": "execute_result",
          "data": {
            "text/html": [
              "<div>\n",
              "<style scoped>\n",
              "    .dataframe tbody tr th:only-of-type {\n",
              "        vertical-align: middle;\n",
              "    }\n",
              "\n",
              "    .dataframe tbody tr th {\n",
              "        vertical-align: top;\n",
              "    }\n",
              "\n",
              "    .dataframe thead th {\n",
              "        text-align: right;\n",
              "    }\n",
              "</style>\n",
              "<table border=\"1\" class=\"dataframe\">\n",
              "  <thead>\n",
              "    <tr style=\"text-align: right;\">\n",
              "      <th></th>\n",
              "      <th>coffee_shop_name</th>\n",
              "      <th>full_review_text</th>\n",
              "      <th>star_rating</th>\n",
              "      <th>date</th>\n",
              "      <th>cleaned_review</th>\n",
              "      <th>tokens</th>\n",
              "      <th>spacy_tokens</th>\n",
              "    </tr>\n",
              "  </thead>\n",
              "  <tbody>\n",
              "    <tr>\n",
              "      <th>0</th>\n",
              "      <td>The Factory - Cafe With a Soul</td>\n",
              "      <td>11/25/2016 1 check-in Love love loved the atm...</td>\n",
              "      <td>5.0 star rating</td>\n",
              "      <td>2016-11-25</td>\n",
              "      <td>checkin love love loved the atmosphere every c...</td>\n",
              "      <td>[checkin, love, love, loved, the, atmosphere, ...</td>\n",
              "      <td>[11/25/2016, 1, check, Love, love, love, atmos...</td>\n",
              "    </tr>\n",
              "    <tr>\n",
              "      <th>1</th>\n",
              "      <td>The Factory - Cafe With a Soul</td>\n",
              "      <td>12/2/2016 Listed in Date Night: Austin, Ambia...</td>\n",
              "      <td>4.0 star rating</td>\n",
              "      <td>2016-12-02</td>\n",
              "      <td>listed in date night austin ambiance in austin...</td>\n",
              "      <td>[listed, in, date, night, austin, ambiance, in...</td>\n",
              "      <td>[12/2/2016, list, Date, Night, Austin, ambianc...</td>\n",
              "    </tr>\n",
              "    <tr>\n",
              "      <th>2</th>\n",
              "      <td>The Factory - Cafe With a Soul</td>\n",
              "      <td>11/30/2016 1 check-in Listed in Brunch Spots ...</td>\n",
              "      <td>4.0 star rating</td>\n",
              "      <td>2016-11-30</td>\n",
              "      <td>checkin listed in brunch spots i loved the ecl...</td>\n",
              "      <td>[checkin, listed, in, brunch, spots, i, loved,...</td>\n",
              "      <td>[11/30/2016, 1, check, list, Brunch, Spots, lo...</td>\n",
              "    </tr>\n",
              "    <tr>\n",
              "      <th>3</th>\n",
              "      <td>The Factory - Cafe With a Soul</td>\n",
              "      <td>11/25/2016 Very cool decor! Good drinks Nice ...</td>\n",
              "      <td>2.0 star rating</td>\n",
              "      <td>2016-11-25</td>\n",
              "      <td>very cool decor good drinks nice seating howev...</td>\n",
              "      <td>[very, cool, decor, good, drinks, nice, seatin...</td>\n",
              "      <td>[11/25/2016, cool, decor, good, drink, nice, s...</td>\n",
              "    </tr>\n",
              "    <tr>\n",
              "      <th>4</th>\n",
              "      <td>The Factory - Cafe With a Soul</td>\n",
              "      <td>12/3/2016 1 check-in They are located within ...</td>\n",
              "      <td>4.0 star rating</td>\n",
              "      <td>2016-12-03</td>\n",
              "      <td>checkin they are located within the northcross...</td>\n",
              "      <td>[checkin, they, are, located, within, the, nor...</td>\n",
              "      <td>[12/3/2016, 1, check, locate, Northcross, mall...</td>\n",
              "    </tr>\n",
              "  </tbody>\n",
              "</table>\n",
              "</div>"
            ],
            "text/plain": [
              "                  coffee_shop_name  ...                                       spacy_tokens\n",
              "0  The Factory - Cafe With a Soul   ...  [11/25/2016, 1, check, Love, love, love, atmos...\n",
              "1  The Factory - Cafe With a Soul   ...  [12/2/2016, list, Date, Night, Austin, ambianc...\n",
              "2  The Factory - Cafe With a Soul   ...  [11/30/2016, 1, check, list, Brunch, Spots, lo...\n",
              "3  The Factory - Cafe With a Soul   ...  [11/25/2016, cool, decor, good, drink, nice, s...\n",
              "4  The Factory - Cafe With a Soul   ...  [12/3/2016, 1, check, locate, Northcross, mall...\n",
              "\n",
              "[5 rows x 7 columns]"
            ]
          },
          "metadata": {},
          "execution_count": 24
        }
      ]
    },
    {
      "cell_type": "markdown",
      "metadata": {
        "id": "enAfqOhN3SNc"
      },
      "source": [
        "##1.5 Visualize the Spacy Tokens"
      ]
    },
    {
      "cell_type": "code",
      "metadata": {
        "colab": {
          "base_uri": "https://localhost:8080/",
          "height": 248
        },
        "id": "Rk-50jGh3Rxu",
        "outputId": "1778d80f-886f-4615-a9b3-1cf746398353"
      },
      "source": [
        "wc = count(df['spacy_tokens'])\n",
        "\n",
        "wc_top20 = wc[wc['rank'] <= 20]\n",
        "\n",
        "squarify... #YOUR CODE HERE\n",
        "plt.axis('off')\n",
        "plt.show()"
      ],
      "execution_count": null,
      "outputs": [
        {
          "output_type": "display_data",
          "data": {
            "image/png": "[encoded data removed]",
            "text/plain": [
              "<Figure size 432x288 with 1 Axes>"
            ]
          },
          "metadata": {
            "needs_background": "light"
          }
        }
      ]
    },
    {
      "cell_type": "markdown",
      "metadata": {
        "id": "qGzScOL73rFn"
      },
      "source": [
        "# 2. Compare High and Low Coffeeshop reviews!\n",
        "\n",
        "- We'll say that a \"good\" rating is 4 or 5 stars\n",
        "- a \"bad\" rating is 3 stars or less"
      ]
    },
    {
      "cell_type": "markdown",
      "metadata": {
        "id": "bOSuAA-G37e3"
      },
      "source": [
        "## 2.1 Create a numeric version of the star rating"
      ]
    },
    {
      "cell_type": "code",
      "metadata": {
        "colab": {
          "base_uri": "https://localhost:8080/",
          "height": 292
        },
        "id": "CM-bcjks4HMM",
        "outputId": "9ffe6777-d3ef-4aa0-9202-ba3d88243578"
      },
      "source": [
        "df.head()"
      ],
      "execution_count": null,
      "outputs": [
        {
          "output_type": "execute_result",
          "data": {
            "text/html": [
              "<div>\n",
              "<style scoped>\n",
              "    .dataframe tbody tr th:only-of-type {\n",
              "        vertical-align: middle;\n",
              "    }\n",
              "\n",
              "    .dataframe tbody tr th {\n",
              "        vertical-align: top;\n",
              "    }\n",
              "\n",
              "    .dataframe thead th {\n",
              "        text-align: right;\n",
              "    }\n",
              "</style>\n",
              "<table border=\"1\" class=\"dataframe\">\n",
              "  <thead>\n",
              "    <tr style=\"text-align: right;\">\n",
              "      <th></th>\n",
              "      <th>coffee_shop_name</th>\n",
              "      <th>full_review_text</th>\n",
              "      <th>star_rating</th>\n",
              "      <th>date</th>\n",
              "      <th>cleaned_review</th>\n",
              "      <th>tokens</th>\n",
              "      <th>spacy_tokens</th>\n",
              "    </tr>\n",
              "  </thead>\n",
              "  <tbody>\n",
              "    <tr>\n",
              "      <th>0</th>\n",
              "      <td>The Factory - Cafe With a Soul</td>\n",
              "      <td>11/25/2016 1 check-in Love love loved the atm...</td>\n",
              "      <td>5.0 star rating</td>\n",
              "      <td>2016-11-25</td>\n",
              "      <td>checkin love love loved the atmosphere every c...</td>\n",
              "      <td>[checkin, love, love, loved, the, atmosphere, ...</td>\n",
              "      <td>[11/25/2016, 1, check, Love, love, love, atmos...</td>\n",
              "    </tr>\n",
              "    <tr>\n",
              "      <th>1</th>\n",
              "      <td>The Factory - Cafe With a Soul</td>\n",
              "      <td>12/2/2016 Listed in Date Night: Austin, Ambia...</td>\n",
              "      <td>4.0 star rating</td>\n",
              "      <td>2016-12-02</td>\n",
              "      <td>listed in date night austin ambiance in austin...</td>\n",
              "      <td>[listed, in, date, night, austin, ambiance, in...</td>\n",
              "      <td>[12/2/2016, list, Date, Night, Austin, ambianc...</td>\n",
              "    </tr>\n",
              "    <tr>\n",
              "      <th>2</th>\n",
              "      <td>The Factory - Cafe With a Soul</td>\n",
              "      <td>11/30/2016 1 check-in Listed in Brunch Spots ...</td>\n",
              "      <td>4.0 star rating</td>\n",
              "      <td>2016-11-30</td>\n",
              "      <td>checkin listed in brunch spots i loved the ecl...</td>\n",
              "      <td>[checkin, listed, in, brunch, spots, i, loved,...</td>\n",
              "      <td>[11/30/2016, 1, check, list, Brunch, Spots, lo...</td>\n",
              "    </tr>\n",
              "    <tr>\n",
              "      <th>3</th>\n",
              "      <td>The Factory - Cafe With a Soul</td>\n",
              "      <td>11/25/2016 Very cool decor! Good drinks Nice ...</td>\n",
              "      <td>2.0 star rating</td>\n",
              "      <td>2016-11-25</td>\n",
              "      <td>very cool decor good drinks nice seating howev...</td>\n",
              "      <td>[very, cool, decor, good, drinks, nice, seatin...</td>\n",
              "      <td>[11/25/2016, cool, decor, good, drink, nice, s...</td>\n",
              "    </tr>\n",
              "    <tr>\n",
              "      <th>4</th>\n",
              "      <td>The Factory - Cafe With a Soul</td>\n",
              "      <td>12/3/2016 1 check-in They are located within ...</td>\n",
              "      <td>4.0 star rating</td>\n",
              "      <td>2016-12-03</td>\n",
              "      <td>checkin they are located within the northcross...</td>\n",
              "      <td>[checkin, they, are, located, within, the, nor...</td>\n",
              "      <td>[12/3/2016, 1, check, locate, Northcross, mall...</td>\n",
              "    </tr>\n",
              "  </tbody>\n",
              "</table>\n",
              "</div>"
            ],
            "text/plain": [
              "                  coffee_shop_name  ...                                       spacy_tokens\n",
              "0  The Factory - Cafe With a Soul   ...  [11/25/2016, 1, check, Love, love, love, atmos...\n",
              "1  The Factory - Cafe With a Soul   ...  [12/2/2016, list, Date, Night, Austin, ambianc...\n",
              "2  The Factory - Cafe With a Soul   ...  [11/30/2016, 1, check, list, Brunch, Spots, lo...\n",
              "3  The Factory - Cafe With a Soul   ...  [11/25/2016, cool, decor, good, drink, nice, s...\n",
              "4  The Factory - Cafe With a Soul   ...  [12/3/2016, 1, check, locate, Northcross, mall...\n",
              "\n",
              "[5 rows x 7 columns]"
            ]
          },
          "metadata": {},
          "execution_count": 26
        }
      ]
    },
    {
      "cell_type": "code",
      "metadata": {
        "colab": {
          "base_uri": "https://localhost:8080/"
        },
        "id": "OG3x8rdiBCNO",
        "outputId": "788cf327-d18a-4ca1-abe1-0a3652ac5d1b"
      },
      "source": [
        "df['star_rating'].unique()"
      ],
      "execution_count": null,
      "outputs": [
        {
          "output_type": "execute_result",
          "data": {
            "text/plain": [
              "array([' 5.0 star rating ', ' 4.0 star rating ', ' 2.0 star rating ',\n",
              "       ' 3.0 star rating ', ' 1.0 star rating '], dtype=object)"
            ]
          },
          "metadata": {},
          "execution_count": 8
        }
      ]
    },
    {
      "cell_type": "markdown",
      "metadata": {
        "id": "OLkuO5fBBUVG"
      },
      "source": [
        "Let's write a `regex` to extract only the numerical value of the rating from this text string<br>\n",
        "Reference: [Easiest way to remember Regular Expressions](https://towardsdatascience.com/easiest-way-to-remember-regular-expressions-regex-178ba518bebd)"
      ]
    },
    {
      "cell_type": "code",
      "metadata": {
        "colab": {
          "base_uri": "https://localhost:8080/",
          "height": 424
        },
        "id": "XWRZejBCBaPI",
        "outputId": "e85ef1cd-05f4-498d-d232-da79619ffde6"
      },
      "source": [
        "df['stars'] = df['star_rating'].str.extract('(...)').astype(int) # COMPLETE THE CODE"
      ],
      "execution_count": null,
      "outputs": [
        {
          "output_type": "execute_result",
          "data": {
            "text/html": [
              "<div>\n",
              "<style scoped>\n",
              "    .dataframe tbody tr th:only-of-type {\n",
              "        vertical-align: middle;\n",
              "    }\n",
              "\n",
              "    .dataframe tbody tr th {\n",
              "        vertical-align: top;\n",
              "    }\n",
              "\n",
              "    .dataframe thead th {\n",
              "        text-align: right;\n",
              "    }\n",
              "</style>\n",
              "<table border=\"1\" class=\"dataframe\">\n",
              "  <thead>\n",
              "    <tr style=\"text-align: right;\">\n",
              "      <th></th>\n",
              "      <th>0</th>\n",
              "    </tr>\n",
              "  </thead>\n",
              "  <tbody>\n",
              "    <tr>\n",
              "      <th>0</th>\n",
              "      <td>5</td>\n",
              "    </tr>\n",
              "    <tr>\n",
              "      <th>1</th>\n",
              "      <td>4</td>\n",
              "    </tr>\n",
              "    <tr>\n",
              "      <th>2</th>\n",
              "      <td>4</td>\n",
              "    </tr>\n",
              "    <tr>\n",
              "      <th>3</th>\n",
              "      <td>2</td>\n",
              "    </tr>\n",
              "    <tr>\n",
              "      <th>4</th>\n",
              "      <td>4</td>\n",
              "    </tr>\n",
              "    <tr>\n",
              "      <th>...</th>\n",
              "      <td>...</td>\n",
              "    </tr>\n",
              "    <tr>\n",
              "      <th>7611</th>\n",
              "      <td>4</td>\n",
              "    </tr>\n",
              "    <tr>\n",
              "      <th>7612</th>\n",
              "      <td>5</td>\n",
              "    </tr>\n",
              "    <tr>\n",
              "      <th>7613</th>\n",
              "      <td>4</td>\n",
              "    </tr>\n",
              "    <tr>\n",
              "      <th>7614</th>\n",
              "      <td>3</td>\n",
              "    </tr>\n",
              "    <tr>\n",
              "      <th>7615</th>\n",
              "      <td>4</td>\n",
              "    </tr>\n",
              "  </tbody>\n",
              "</table>\n",
              "<p>7616 rows × 1 columns</p>\n",
              "</div>"
            ],
            "text/plain": [
              "      0\n",
              "0     5\n",
              "1     4\n",
              "2     4\n",
              "3     2\n",
              "4     4\n",
              "...  ..\n",
              "7611  4\n",
              "7612  5\n",
              "7613  4\n",
              "7614  3\n",
              "7615  4\n",
              "\n",
              "[7616 rows x 1 columns]"
            ]
          },
          "metadata": {},
          "execution_count": 13
        }
      ]
    },
    {
      "cell_type": "code",
      "metadata": {
        "colab": {
          "base_uri": "https://localhost:8080/"
        },
        "id": "5oWq_lTIB4gP",
        "outputId": "e2a0a949-c05c-4373-8a74-78e7ae01015e"
      },
      "source": [
        "type(df['stars'][0])"
      ],
      "execution_count": null,
      "outputs": [
        {
          "output_type": "execute_result",
          "data": {
            "text/plain": [
              "numpy.int64"
            ]
          },
          "metadata": {},
          "execution_count": 15
        }
      ]
    },
    {
      "cell_type": "code",
      "metadata": {
        "colab": {
          "base_uri": "https://localhost:8080/",
          "height": 206
        },
        "id": "Ug2Ym8GEBScT",
        "outputId": "f9fb61cc-6360-4a45-f3d1-eead92b34fa6"
      },
      "source": [
        "df.head()"
      ],
      "execution_count": null,
      "outputs": [
        {
          "output_type": "execute_result",
          "data": {
            "text/html": [
              "<div>\n",
              "<style scoped>\n",
              "    .dataframe tbody tr th:only-of-type {\n",
              "        vertical-align: middle;\n",
              "    }\n",
              "\n",
              "    .dataframe tbody tr th {\n",
              "        vertical-align: top;\n",
              "    }\n",
              "\n",
              "    .dataframe thead th {\n",
              "        text-align: right;\n",
              "    }\n",
              "</style>\n",
              "<table border=\"1\" class=\"dataframe\">\n",
              "  <thead>\n",
              "    <tr style=\"text-align: right;\">\n",
              "      <th></th>\n",
              "      <th>coffee_shop_name</th>\n",
              "      <th>full_review_text</th>\n",
              "      <th>star_rating</th>\n",
              "      <th>stars</th>\n",
              "    </tr>\n",
              "  </thead>\n",
              "  <tbody>\n",
              "    <tr>\n",
              "      <th>0</th>\n",
              "      <td>The Factory - Cafe With a Soul</td>\n",
              "      <td>11/25/2016 1 check-in Love love loved the atm...</td>\n",
              "      <td>5.0 star rating</td>\n",
              "      <td>5</td>\n",
              "    </tr>\n",
              "    <tr>\n",
              "      <th>1</th>\n",
              "      <td>The Factory - Cafe With a Soul</td>\n",
              "      <td>12/2/2016 Listed in Date Night: Austin, Ambia...</td>\n",
              "      <td>4.0 star rating</td>\n",
              "      <td>4</td>\n",
              "    </tr>\n",
              "    <tr>\n",
              "      <th>2</th>\n",
              "      <td>The Factory - Cafe With a Soul</td>\n",
              "      <td>11/30/2016 1 check-in Listed in Brunch Spots ...</td>\n",
              "      <td>4.0 star rating</td>\n",
              "      <td>4</td>\n",
              "    </tr>\n",
              "    <tr>\n",
              "      <th>3</th>\n",
              "      <td>The Factory - Cafe With a Soul</td>\n",
              "      <td>11/25/2016 Very cool decor! Good drinks Nice ...</td>\n",
              "      <td>2.0 star rating</td>\n",
              "      <td>2</td>\n",
              "    </tr>\n",
              "    <tr>\n",
              "      <th>4</th>\n",
              "      <td>The Factory - Cafe With a Soul</td>\n",
              "      <td>12/3/2016 1 check-in They are located within ...</td>\n",
              "      <td>4.0 star rating</td>\n",
              "      <td>4</td>\n",
              "    </tr>\n",
              "  </tbody>\n",
              "</table>\n",
              "</div>"
            ],
            "text/plain": [
              "                  coffee_shop_name  ... stars\n",
              "0  The Factory - Cafe With a Soul   ...     5\n",
              "1  The Factory - Cafe With a Soul   ...     4\n",
              "2  The Factory - Cafe With a Soul   ...     4\n",
              "3  The Factory - Cafe With a Soul   ...     2\n",
              "4  The Factory - Cafe With a Soul   ...     4\n",
              "\n",
              "[5 rows x 4 columns]"
            ]
          },
          "metadata": {},
          "execution_count": 16
        }
      ]
    },
    {
      "cell_type": "code",
      "metadata": {
        "colab": {
          "base_uri": "https://localhost:8080/",
          "height": 292
        },
        "id": "55Qc1RPa4JD-",
        "outputId": "fe02bca8-0bfb-4a24-db2a-dc35131fd499"
      },
      "source": [
        "# COMPLETE CODE HERE\n",
        "def star_rating_numeric(rating_string):\n",
        "  return float(rating_string.split()[0])\n",
        "\n",
        "df['star_rating'] = df[?].apply(?)\n",
        "\n",
        "df.head()"
      ],
      "execution_count": null,
      "outputs": [
        {
          "output_type": "execute_result",
          "data": {
            "text/html": [
              "<div>\n",
              "<style scoped>\n",
              "    .dataframe tbody tr th:only-of-type {\n",
              "        vertical-align: middle;\n",
              "    }\n",
              "\n",
              "    .dataframe tbody tr th {\n",
              "        vertical-align: top;\n",
              "    }\n",
              "\n",
              "    .dataframe thead th {\n",
              "        text-align: right;\n",
              "    }\n",
              "</style>\n",
              "<table border=\"1\" class=\"dataframe\">\n",
              "  <thead>\n",
              "    <tr style=\"text-align: right;\">\n",
              "      <th></th>\n",
              "      <th>coffee_shop_name</th>\n",
              "      <th>full_review_text</th>\n",
              "      <th>star_rating</th>\n",
              "      <th>date</th>\n",
              "      <th>cleaned_review</th>\n",
              "      <th>tokens</th>\n",
              "      <th>spacy_tokens</th>\n",
              "    </tr>\n",
              "  </thead>\n",
              "  <tbody>\n",
              "    <tr>\n",
              "      <th>0</th>\n",
              "      <td>The Factory - Cafe With a Soul</td>\n",
              "      <td>11/25/2016 1 check-in Love love loved the atm...</td>\n",
              "      <td>5.0</td>\n",
              "      <td>2016-11-25</td>\n",
              "      <td>checkin love love loved the atmosphere every c...</td>\n",
              "      <td>[checkin, love, love, loved, the, atmosphere, ...</td>\n",
              "      <td>[11/25/2016, 1, check, Love, love, love, atmos...</td>\n",
              "    </tr>\n",
              "    <tr>\n",
              "      <th>1</th>\n",
              "      <td>The Factory - Cafe With a Soul</td>\n",
              "      <td>12/2/2016 Listed in Date Night: Austin, Ambia...</td>\n",
              "      <td>4.0</td>\n",
              "      <td>2016-12-02</td>\n",
              "      <td>listed in date night austin ambiance in austin...</td>\n",
              "      <td>[listed, in, date, night, austin, ambiance, in...</td>\n",
              "      <td>[12/2/2016, list, Date, Night, Austin, ambianc...</td>\n",
              "    </tr>\n",
              "    <tr>\n",
              "      <th>2</th>\n",
              "      <td>The Factory - Cafe With a Soul</td>\n",
              "      <td>11/30/2016 1 check-in Listed in Brunch Spots ...</td>\n",
              "      <td>4.0</td>\n",
              "      <td>2016-11-30</td>\n",
              "      <td>checkin listed in brunch spots i loved the ecl...</td>\n",
              "      <td>[checkin, listed, in, brunch, spots, i, loved,...</td>\n",
              "      <td>[11/30/2016, 1, check, list, Brunch, Spots, lo...</td>\n",
              "    </tr>\n",
              "    <tr>\n",
              "      <th>3</th>\n",
              "      <td>The Factory - Cafe With a Soul</td>\n",
              "      <td>11/25/2016 Very cool decor! Good drinks Nice ...</td>\n",
              "      <td>2.0</td>\n",
              "      <td>2016-11-25</td>\n",
              "      <td>very cool decor good drinks nice seating howev...</td>\n",
              "      <td>[very, cool, decor, good, drinks, nice, seatin...</td>\n",
              "      <td>[11/25/2016, cool, decor, good, drink, nice, s...</td>\n",
              "    </tr>\n",
              "    <tr>\n",
              "      <th>4</th>\n",
              "      <td>The Factory - Cafe With a Soul</td>\n",
              "      <td>12/3/2016 1 check-in They are located within ...</td>\n",
              "      <td>4.0</td>\n",
              "      <td>2016-12-03</td>\n",
              "      <td>checkin they are located within the northcross...</td>\n",
              "      <td>[checkin, they, are, located, within, the, nor...</td>\n",
              "      <td>[12/3/2016, 1, check, locate, Northcross, mall...</td>\n",
              "    </tr>\n",
              "  </tbody>\n",
              "</table>\n",
              "</div>"
            ],
            "text/plain": [
              "                  coffee_shop_name  ...                                       spacy_tokens\n",
              "0  The Factory - Cafe With a Soul   ...  [11/25/2016, 1, check, Love, love, love, atmos...\n",
              "1  The Factory - Cafe With a Soul   ...  [12/2/2016, list, Date, Night, Austin, ambianc...\n",
              "2  The Factory - Cafe With a Soul   ...  [11/30/2016, 1, check, list, Brunch, Spots, lo...\n",
              "3  The Factory - Cafe With a Soul   ...  [11/25/2016, cool, decor, good, drink, nice, s...\n",
              "4  The Factory - Cafe With a Soul   ...  [12/3/2016, 1, check, locate, Northcross, mall...\n",
              "\n",
              "[5 rows x 7 columns]"
            ]
          },
          "metadata": {},
          "execution_count": 27
        }
      ]
    },
    {
      "cell_type": "code",
      "metadata": {
        "id": "sY-vLc_WwUNA"
      },
      "source": [
        "# most coffee shops get 4 or 5 star ratings.\n",
        "bin_edges = [0.5, 1.5, 2.5, 3.5, 4.5, 5.5]\n",
        "df['stars'].hist(bins=bin_edges);"
      ],
      "execution_count": null,
      "outputs": []
    },
    {
      "cell_type": "markdown",
      "metadata": {
        "id": "eCrNUerr4kKG"
      },
      "source": [
        "##2.2 Split into two dataframes based on star rating\n",
        "good: ratings 4 and 5 <br>\n",
        "bad: ratings <4"
      ]
    },
    {
      "cell_type": "code",
      "metadata": {
        "id": "d-ErzFog4pgM"
      },
      "source": [
        "# Complete code here\n",
        "good = df[ ??]\n",
        "bad = df[ ??]"
      ],
      "execution_count": null,
      "outputs": []
    },
    {
      "cell_type": "code",
      "metadata": {
        "id": "y9ahpHof4yiV"
      },
      "source": [
        "# make sure that all reviews are accounted for in one of the two groups\n",
        "assert df.shape[0] == good.shape[0] + bad.shape[0]"
      ],
      "execution_count": null,
      "outputs": []
    },
    {
      "cell_type": "markdown",
      "metadata": {
        "id": "6HzFcfdkNZv3"
      },
      "source": [
        "#### Summary of the descriptive token statistics \n",
        "\n",
        "`word` The specific token that is being analyzed\n",
        "\n",
        "`appears_in_docs` Number of documents that the word/token appears in\n",
        "\n",
        "`count` The total number of appearances of that token within the corpus \n",
        "\n",
        "`rank` Ranking of tokens by count \n",
        "\n",
        "`fraction_of_total` Fraction of the total tokens that this token makes up\n",
        "\n",
        "`cumulative_fraction_of_total` Sum of fractional total of ranked tokens, down to and including this token. \n",
        "\n",
        "`appears_in_fraction_of_docs` Fraction of documents that token appears in "
      ]
    },
    {
      "cell_type": "code",
      "metadata": {
        "id": "V4aKjuS8szyw",
        "colab": {
          "base_uri": "https://localhost:8080/",
          "height": 362
        },
        "outputId": "a1b69fb1-1c9f-44a4-d36f-907801a732b1"
      },
      "source": [
        "good_wc = count(good[\"spacy_tokens\"])\n",
        "good_wc.head(10)"
      ],
      "execution_count": null,
      "outputs": [
        {
          "output_type": "execute_result",
          "data": {
            "text/html": [
              "<div>\n",
              "<style scoped>\n",
              "    .dataframe tbody tr th:only-of-type {\n",
              "        vertical-align: middle;\n",
              "    }\n",
              "\n",
              "    .dataframe tbody tr th {\n",
              "        vertical-align: top;\n",
              "    }\n",
              "\n",
              "    .dataframe thead th {\n",
              "        text-align: right;\n",
              "    }\n",
              "</style>\n",
              "<table border=\"1\" class=\"dataframe\">\n",
              "  <thead>\n",
              "    <tr style=\"text-align: right;\">\n",
              "      <th></th>\n",
              "      <th>word</th>\n",
              "      <th>appears_in</th>\n",
              "      <th>count</th>\n",
              "      <th>rank</th>\n",
              "      <th>pct_total</th>\n",
              "      <th>cul_pct_total</th>\n",
              "      <th>appears_in_pct</th>\n",
              "    </tr>\n",
              "  </thead>\n",
              "  <tbody>\n",
              "    <tr>\n",
              "      <th>28</th>\n",
              "      <td>coffee</td>\n",
              "      <td>3901</td>\n",
              "      <td>7979</td>\n",
              "      <td>1.0</td>\n",
              "      <td>0.027626</td>\n",
              "      <td>0.027626</td>\n",
              "      <td>0.635342</td>\n",
              "    </tr>\n",
              "    <tr>\n",
              "      <th>93</th>\n",
              "      <td>place</td>\n",
              "      <td>3122</td>\n",
              "      <td>4798</td>\n",
              "      <td>2.0</td>\n",
              "      <td>0.016612</td>\n",
              "      <td>0.044238</td>\n",
              "      <td>0.508469</td>\n",
              "    </tr>\n",
              "    <tr>\n",
              "      <th>191</th>\n",
              "      <td>good</td>\n",
              "      <td>2901</td>\n",
              "      <td>4280</td>\n",
              "      <td>3.0</td>\n",
              "      <td>0.014819</td>\n",
              "      <td>0.059057</td>\n",
              "      <td>0.472476</td>\n",
              "    </tr>\n",
              "    <tr>\n",
              "      <th>125</th>\n",
              "      <td>great</td>\n",
              "      <td>2487</td>\n",
              "      <td>3444</td>\n",
              "      <td>4.0</td>\n",
              "      <td>0.011924</td>\n",
              "      <td>0.070981</td>\n",
              "      <td>0.405049</td>\n",
              "    </tr>\n",
              "    <tr>\n",
              "      <th>14</th>\n",
              "      <td>check</td>\n",
              "      <td>2686</td>\n",
              "      <td>2942</td>\n",
              "      <td>5.0</td>\n",
              "      <td>0.010186</td>\n",
              "      <td>0.081167</td>\n",
              "      <td>0.437459</td>\n",
              "    </tr>\n",
              "    <tr>\n",
              "      <th>205</th>\n",
              "      <td>like</td>\n",
              "      <td>1677</td>\n",
              "      <td>2434</td>\n",
              "      <td>6.0</td>\n",
              "      <td>0.008427</td>\n",
              "      <td>0.089594</td>\n",
              "      <td>0.273127</td>\n",
              "    </tr>\n",
              "    <tr>\n",
              "      <th>389</th>\n",
              "      <td>come</td>\n",
              "      <td>1482</td>\n",
              "      <td>1990</td>\n",
              "      <td>7.0</td>\n",
              "      <td>0.006890</td>\n",
              "      <td>0.096484</td>\n",
              "      <td>0.241368</td>\n",
              "    </tr>\n",
              "    <tr>\n",
              "      <th>43</th>\n",
              "      <td>Austin</td>\n",
              "      <td>1544</td>\n",
              "      <td>1987</td>\n",
              "      <td>8.0</td>\n",
              "      <td>0.006880</td>\n",
              "      <td>0.103364</td>\n",
              "      <td>0.251466</td>\n",
              "    </tr>\n",
              "    <tr>\n",
              "      <th>19</th>\n",
              "      <td>love</td>\n",
              "      <td>1516</td>\n",
              "      <td>1977</td>\n",
              "      <td>9.0</td>\n",
              "      <td>0.006845</td>\n",
              "      <td>0.110209</td>\n",
              "      <td>0.246906</td>\n",
              "    </tr>\n",
              "    <tr>\n",
              "      <th>35</th>\n",
              "      <td>1</td>\n",
              "      <td>1722</td>\n",
              "      <td>1805</td>\n",
              "      <td>10.0</td>\n",
              "      <td>0.006249</td>\n",
              "      <td>0.116458</td>\n",
              "      <td>0.280456</td>\n",
              "    </tr>\n",
              "  </tbody>\n",
              "</table>\n",
              "</div>"
            ],
            "text/plain": [
              "       word  appears_in  count  rank  pct_total  cul_pct_total  appears_in_pct\n",
              "28   coffee        3901   7979   1.0   0.027626       0.027626        0.635342\n",
              "93    place        3122   4798   2.0   0.016612       0.044238        0.508469\n",
              "191    good        2901   4280   3.0   0.014819       0.059057        0.472476\n",
              "125   great        2487   3444   4.0   0.011924       0.070981        0.405049\n",
              "14    check        2686   2942   5.0   0.010186       0.081167        0.437459\n",
              "205    like        1677   2434   6.0   0.008427       0.089594        0.273127\n",
              "389    come        1482   1990   7.0   0.006890       0.096484        0.241368\n",
              "43   Austin        1544   1987   8.0   0.006880       0.103364        0.251466\n",
              "19     love        1516   1977   9.0   0.006845       0.110209        0.246906\n",
              "35        1        1722   1805  10.0   0.006249       0.116458        0.280456"
            ]
          },
          "metadata": {},
          "execution_count": 31
        }
      ]
    },
    {
      "cell_type": "code",
      "metadata": {
        "colab": {
          "base_uri": "https://localhost:8080/",
          "height": 362
        },
        "id": "VVPvC0Bk5wty",
        "outputId": "5fb04cbb-a8be-43a1-c8ca-348a46e1ad71"
      },
      "source": [
        "bad_wc = count(bad[\"spacy_tokens\"])\n",
        "bad_wc.head(10)"
      ],
      "execution_count": null,
      "outputs": [
        {
          "output_type": "execute_result",
          "data": {
            "text/html": [
              "<div>\n",
              "<style scoped>\n",
              "    .dataframe tbody tr th:only-of-type {\n",
              "        vertical-align: middle;\n",
              "    }\n",
              "\n",
              "    .dataframe tbody tr th {\n",
              "        vertical-align: top;\n",
              "    }\n",
              "\n",
              "    .dataframe thead th {\n",
              "        text-align: right;\n",
              "    }\n",
              "</style>\n",
              "<table border=\"1\" class=\"dataframe\">\n",
              "  <thead>\n",
              "    <tr style=\"text-align: right;\">\n",
              "      <th></th>\n",
              "      <th>word</th>\n",
              "      <th>appears_in</th>\n",
              "      <th>count</th>\n",
              "      <th>rank</th>\n",
              "      <th>pct_total</th>\n",
              "      <th>cul_pct_total</th>\n",
              "      <th>appears_in_pct</th>\n",
              "    </tr>\n",
              "  </thead>\n",
              "  <tbody>\n",
              "    <tr>\n",
              "      <th>21</th>\n",
              "      <td>coffee</td>\n",
              "      <td>916</td>\n",
              "      <td>2091</td>\n",
              "      <td>1.0</td>\n",
              "      <td>0.025919</td>\n",
              "      <td>0.025919</td>\n",
              "      <td>0.620596</td>\n",
              "    </tr>\n",
              "    <tr>\n",
              "      <th>4</th>\n",
              "      <td>place</td>\n",
              "      <td>751</td>\n",
              "      <td>1223</td>\n",
              "      <td>2.0</td>\n",
              "      <td>0.015160</td>\n",
              "      <td>0.041078</td>\n",
              "      <td>0.508808</td>\n",
              "    </tr>\n",
              "    <tr>\n",
              "      <th>38</th>\n",
              "      <td>good</td>\n",
              "      <td>642</td>\n",
              "      <td>993</td>\n",
              "      <td>3.0</td>\n",
              "      <td>0.012309</td>\n",
              "      <td>0.053387</td>\n",
              "      <td>0.434959</td>\n",
              "    </tr>\n",
              "    <tr>\n",
              "      <th>31</th>\n",
              "      <td>like</td>\n",
              "      <td>596</td>\n",
              "      <td>945</td>\n",
              "      <td>4.0</td>\n",
              "      <td>0.011714</td>\n",
              "      <td>0.065101</td>\n",
              "      <td>0.403794</td>\n",
              "    </tr>\n",
              "    <tr>\n",
              "      <th>75</th>\n",
              "      <td>order</td>\n",
              "      <td>433</td>\n",
              "      <td>763</td>\n",
              "      <td>5.0</td>\n",
              "      <td>0.009458</td>\n",
              "      <td>0.074558</td>\n",
              "      <td>0.293360</td>\n",
              "    </tr>\n",
              "    <tr>\n",
              "      <th>152</th>\n",
              "      <td>come</td>\n",
              "      <td>452</td>\n",
              "      <td>651</td>\n",
              "      <td>6.0</td>\n",
              "      <td>0.008069</td>\n",
              "      <td>0.082628</td>\n",
              "      <td>0.306233</td>\n",
              "    </tr>\n",
              "    <tr>\n",
              "      <th>2</th>\n",
              "      <td>drink</td>\n",
              "      <td>362</td>\n",
              "      <td>611</td>\n",
              "      <td>7.0</td>\n",
              "      <td>0.007574</td>\n",
              "      <td>0.090201</td>\n",
              "      <td>0.245257</td>\n",
              "    </tr>\n",
              "    <tr>\n",
              "      <th>469</th>\n",
              "      <td>time</td>\n",
              "      <td>420</td>\n",
              "      <td>607</td>\n",
              "      <td>8.0</td>\n",
              "      <td>0.007524</td>\n",
              "      <td>0.097725</td>\n",
              "      <td>0.284553</td>\n",
              "    </tr>\n",
              "    <tr>\n",
              "      <th>149</th>\n",
              "      <td>check</td>\n",
              "      <td>489</td>\n",
              "      <td>527</td>\n",
              "      <td>9.0</td>\n",
              "      <td>0.006532</td>\n",
              "      <td>0.104258</td>\n",
              "      <td>0.331301</td>\n",
              "    </tr>\n",
              "    <tr>\n",
              "      <th>49</th>\n",
              "      <td>food</td>\n",
              "      <td>317</td>\n",
              "      <td>499</td>\n",
              "      <td>10.0</td>\n",
              "      <td>0.006185</td>\n",
              "      <td>0.110443</td>\n",
              "      <td>0.214770</td>\n",
              "    </tr>\n",
              "  </tbody>\n",
              "</table>\n",
              "</div>"
            ],
            "text/plain": [
              "       word  appears_in  count  rank  pct_total  cul_pct_total  appears_in_pct\n",
              "21   coffee         916   2091   1.0   0.025919       0.025919        0.620596\n",
              "4     place         751   1223   2.0   0.015160       0.041078        0.508808\n",
              "38     good         642    993   3.0   0.012309       0.053387        0.434959\n",
              "31     like         596    945   4.0   0.011714       0.065101        0.403794\n",
              "75    order         433    763   5.0   0.009458       0.074558        0.293360\n",
              "152    come         452    651   6.0   0.008069       0.082628        0.306233\n",
              "2     drink         362    611   7.0   0.007574       0.090201        0.245257\n",
              "469    time         420    607   8.0   0.007524       0.097725        0.284553\n",
              "149   check         489    527   9.0   0.006532       0.104258        0.331301\n",
              "49     food         317    499  10.0   0.006185       0.110443        0.214770"
            ]
          },
          "metadata": {},
          "execution_count": 32
        }
      ]
    },
    {
      "cell_type": "markdown",
      "metadata": {
        "id": "w1BTCz_gszyx"
      },
      "source": [
        "##2.3 Visualize top 20 `good` and top 20 `bad` tokens using a word cloud"
      ]
    },
    {
      "cell_type": "code",
      "metadata": {
        "id": "7MWQ1BHeszyx",
        "colab": {
          "base_uri": "https://localhost:8080/",
          "height": 837
        },
        "outputId": "5a9dcca4-5398-4527-b537-4725dc16a36a"
      },
      "source": [
        "# COMPLETE CODE HERE\n",
        "good_top20 = good_wc[good_wc['rank'] <= 20]\n",
        "plt.figure(figsize=(10,7))\n",
        "squarify.plot(?? )\n",
        "plt.title(\"Positive Reviews\")\n",
        "plt.axis('off')\n",
        "plt.show()\n",
        "\n",
        "bad_top20 = bad_wc[bad_wc['rank'] <= 20]\n",
        "plt.figure(figsize=(10,7))\n",
        "squarify.plot(??)\n",
        "plt.title(\"Negative Reviews\")\n",
        "plt.axis('off')\n",
        "plt.show()"
      ],
      "execution_count": null,
      "outputs": [
        {
          "output_type": "display_data",
          "data": {
            "image/png": "[encoded data removed]",
            "text/plain": [
              "<Figure size 720x504 with 1 Axes>"
            ]
          },
          "metadata": {
            "needs_background": "light"
          }
        },
        {
          "output_type": "display_data",
          "data": {
            "image/png": "[encoded data removed]",
            "text/plain": [
              "<Figure size 720x504 with 1 Axes>"
            ]
          },
          "metadata": {
            "needs_background": "light"
          }
        }
      ]
    },
    {
      "cell_type": "markdown",
      "metadata": {
        "id": "hhRS5oWkszy1"
      },
      "source": [
        "## 3. Find out which words are likely to occur in \"good\" and \"bad\" reviews\n",
        "Ok - let's do a more thorough analysis! <br>\n",
        "Looking at `df_pos_wc` and `df_neg_wc` we notice that certain words are ranked higher in one data set and lower in the other. "
      ]
    },
    {
      "cell_type": "code",
      "metadata": {
        "id": "ad_p-iZaszy1"
      },
      "source": [
        "# these are words that are ranked high in one data set but not the other\n",
        "# you might try working with two keyword lists -- one for the good reviews and one for the bad reviews \n",
        "key_words = []"
      ],
      "execution_count": null,
      "outputs": []
    },
    {
      "cell_type": "code",
      "metadata": {
        "id": "00yVhq9hszy1",
        "colab": {
          "base_uri": "https://localhost:8080/",
          "height": 205
        },
        "outputId": "123c19a8-25fa-429d-c8fa-ac43a84da71e"
      },
      "source": [
        "good_wc.head()"
      ],
      "execution_count": null,
      "outputs": [
        {
          "output_type": "execute_result",
          "data": {
            "text/html": [
              "<div>\n",
              "<style scoped>\n",
              "    .dataframe tbody tr th:only-of-type {\n",
              "        vertical-align: middle;\n",
              "    }\n",
              "\n",
              "    .dataframe tbody tr th {\n",
              "        vertical-align: top;\n",
              "    }\n",
              "\n",
              "    .dataframe thead th {\n",
              "        text-align: right;\n",
              "    }\n",
              "</style>\n",
              "<table border=\"1\" class=\"dataframe\">\n",
              "  <thead>\n",
              "    <tr style=\"text-align: right;\">\n",
              "      <th></th>\n",
              "      <th>word</th>\n",
              "      <th>appears_in</th>\n",
              "      <th>count</th>\n",
              "      <th>rank</th>\n",
              "      <th>pct_total</th>\n",
              "      <th>cul_pct_total</th>\n",
              "      <th>appears_in_pct</th>\n",
              "    </tr>\n",
              "  </thead>\n",
              "  <tbody>\n",
              "    <tr>\n",
              "      <th>28</th>\n",
              "      <td>coffee</td>\n",
              "      <td>3901</td>\n",
              "      <td>7979</td>\n",
              "      <td>1.0</td>\n",
              "      <td>0.027626</td>\n",
              "      <td>0.027626</td>\n",
              "      <td>0.635342</td>\n",
              "    </tr>\n",
              "    <tr>\n",
              "      <th>93</th>\n",
              "      <td>place</td>\n",
              "      <td>3122</td>\n",
              "      <td>4798</td>\n",
              "      <td>2.0</td>\n",
              "      <td>0.016612</td>\n",
              "      <td>0.044238</td>\n",
              "      <td>0.508469</td>\n",
              "    </tr>\n",
              "    <tr>\n",
              "      <th>191</th>\n",
              "      <td>good</td>\n",
              "      <td>2901</td>\n",
              "      <td>4280</td>\n",
              "      <td>3.0</td>\n",
              "      <td>0.014819</td>\n",
              "      <td>0.059057</td>\n",
              "      <td>0.472476</td>\n",
              "    </tr>\n",
              "    <tr>\n",
              "      <th>125</th>\n",
              "      <td>great</td>\n",
              "      <td>2487</td>\n",
              "      <td>3444</td>\n",
              "      <td>4.0</td>\n",
              "      <td>0.011924</td>\n",
              "      <td>0.070981</td>\n",
              "      <td>0.405049</td>\n",
              "    </tr>\n",
              "    <tr>\n",
              "      <th>14</th>\n",
              "      <td>check</td>\n",
              "      <td>2686</td>\n",
              "      <td>2942</td>\n",
              "      <td>5.0</td>\n",
              "      <td>0.010186</td>\n",
              "      <td>0.081167</td>\n",
              "      <td>0.437459</td>\n",
              "    </tr>\n",
              "  </tbody>\n",
              "</table>\n",
              "</div>"
            ],
            "text/plain": [
              "       word  appears_in  count  rank  pct_total  cul_pct_total  appears_in_pct\n",
              "28   coffee        3901   7979   1.0   0.027626       0.027626        0.635342\n",
              "93    place        3122   4798   2.0   0.016612       0.044238        0.508469\n",
              "191    good        2901   4280   3.0   0.014819       0.059057        0.472476\n",
              "125   great        2487   3444   4.0   0.011924       0.070981        0.405049\n",
              "14    check        2686   2942   5.0   0.010186       0.081167        0.437459"
            ]
          },
          "metadata": {},
          "execution_count": 37
        }
      ]
    },
    {
      "cell_type": "code",
      "metadata": {
        "id": "NuKHEw0Dszy1",
        "colab": {
          "base_uri": "https://localhost:8080/",
          "height": 205
        },
        "outputId": "06c78d3f-0cb7-426e-8177-c8cc9b4aa530"
      },
      "source": [
        "df_pos_keywords_mask = good_wc.word.isin(key_words)\n",
        "df_pos_keywords = good_wc[df_pos_keywords_mask]\n",
        "df_pos_keywords.head()"
      ],
      "execution_count": null,
      "outputs": [
        {
          "output_type": "execute_result",
          "data": {
            "text/html": [
              "<div>\n",
              "<style scoped>\n",
              "    .dataframe tbody tr th:only-of-type {\n",
              "        vertical-align: middle;\n",
              "    }\n",
              "\n",
              "    .dataframe tbody tr th {\n",
              "        vertical-align: top;\n",
              "    }\n",
              "\n",
              "    .dataframe thead th {\n",
              "        text-align: right;\n",
              "    }\n",
              "</style>\n",
              "<table border=\"1\" class=\"dataframe\">\n",
              "  <thead>\n",
              "    <tr style=\"text-align: right;\">\n",
              "      <th></th>\n",
              "      <th>word</th>\n",
              "      <th>appears_in</th>\n",
              "      <th>count</th>\n",
              "      <th>rank</th>\n",
              "      <th>pct_total</th>\n",
              "      <th>cul_pct_total</th>\n",
              "      <th>appears_in_pct</th>\n",
              "    </tr>\n",
              "  </thead>\n",
              "  <tbody>\n",
              "    <tr>\n",
              "      <th>125</th>\n",
              "      <td>great</td>\n",
              "      <td>2487</td>\n",
              "      <td>3444</td>\n",
              "      <td>4.0</td>\n",
              "      <td>0.011924</td>\n",
              "      <td>0.070981</td>\n",
              "      <td>0.405049</td>\n",
              "    </tr>\n",
              "    <tr>\n",
              "      <th>19</th>\n",
              "      <td>love</td>\n",
              "      <td>1516</td>\n",
              "      <td>1977</td>\n",
              "      <td>9.0</td>\n",
              "      <td>0.006845</td>\n",
              "      <td>0.110209</td>\n",
              "      <td>0.246906</td>\n",
              "    </tr>\n",
              "    <tr>\n",
              "      <th>173</th>\n",
              "      <td>friendly</td>\n",
              "      <td>1436</td>\n",
              "      <td>1511</td>\n",
              "      <td>15.0</td>\n",
              "      <td>0.005232</td>\n",
              "      <td>0.145863</td>\n",
              "      <td>0.233876</td>\n",
              "    </tr>\n",
              "    <tr>\n",
              "      <th>628</th>\n",
              "      <td>delicious</td>\n",
              "      <td>1100</td>\n",
              "      <td>1216</td>\n",
              "      <td>23.0</td>\n",
              "      <td>0.004210</td>\n",
              "      <td>0.183786</td>\n",
              "      <td>0.179153</td>\n",
              "    </tr>\n",
              "    <tr>\n",
              "      <th>398</th>\n",
              "      <td>not</td>\n",
              "      <td>50</td>\n",
              "      <td>56</td>\n",
              "      <td>805.0</td>\n",
              "      <td>0.000194</td>\n",
              "      <td>0.732558</td>\n",
              "      <td>0.008143</td>\n",
              "    </tr>\n",
              "  </tbody>\n",
              "</table>\n",
              "</div>"
            ],
            "text/plain": [
              "          word  appears_in  count  ...  pct_total  cul_pct_total  appears_in_pct\n",
              "125      great        2487   3444  ...   0.011924       0.070981        0.405049\n",
              "19        love        1516   1977  ...   0.006845       0.110209        0.246906\n",
              "173   friendly        1436   1511  ...   0.005232       0.145863        0.233876\n",
              "628  delicious        1100   1216  ...   0.004210       0.183786        0.179153\n",
              "398        not          50     56  ...   0.000194       0.732558        0.008143\n",
              "\n",
              "[5 rows x 7 columns]"
            ]
          },
          "metadata": {},
          "execution_count": 38
        }
      ]
    },
    {
      "cell_type": "code",
      "metadata": {
        "id": "945bUvfmszy1",
        "colab": {
          "base_uri": "https://localhost:8080/",
          "height": 205
        },
        "outputId": "e3c4d346-9191-4ef6-d145-94e2f44b2f61"
      },
      "source": [
        "df_neg_keywords_mask = bad_wc.word.isin(key_words)\n",
        "df_neg_keywords = bad_wc[df_neg_keywords_mask]\n",
        "df_neg_keywords.head()"
      ],
      "execution_count": null,
      "outputs": [
        {
          "output_type": "execute_result",
          "data": {
            "text/html": [
              "<div>\n",
              "<style scoped>\n",
              "    .dataframe tbody tr th:only-of-type {\n",
              "        vertical-align: middle;\n",
              "    }\n",
              "\n",
              "    .dataframe tbody tr th {\n",
              "        vertical-align: top;\n",
              "    }\n",
              "\n",
              "    .dataframe thead th {\n",
              "        text-align: right;\n",
              "    }\n",
              "</style>\n",
              "<table border=\"1\" class=\"dataframe\">\n",
              "  <thead>\n",
              "    <tr style=\"text-align: right;\">\n",
              "      <th></th>\n",
              "      <th>word</th>\n",
              "      <th>appears_in</th>\n",
              "      <th>count</th>\n",
              "      <th>rank</th>\n",
              "      <th>pct_total</th>\n",
              "      <th>cul_pct_total</th>\n",
              "      <th>appears_in_pct</th>\n",
              "    </tr>\n",
              "  </thead>\n",
              "  <tbody>\n",
              "    <tr>\n",
              "      <th>142</th>\n",
              "      <td>great</td>\n",
              "      <td>347</td>\n",
              "      <td>466</td>\n",
              "      <td>11.0</td>\n",
              "      <td>0.005776</td>\n",
              "      <td>0.116219</td>\n",
              "      <td>0.235095</td>\n",
              "    </tr>\n",
              "    <tr>\n",
              "      <th>295</th>\n",
              "      <td>love</td>\n",
              "      <td>204</td>\n",
              "      <td>246</td>\n",
              "      <td>39.0</td>\n",
              "      <td>0.003049</td>\n",
              "      <td>0.233765</td>\n",
              "      <td>0.138211</td>\n",
              "    </tr>\n",
              "    <tr>\n",
              "      <th>563</th>\n",
              "      <td>friendly</td>\n",
              "      <td>188</td>\n",
              "      <td>209</td>\n",
              "      <td>55.0</td>\n",
              "      <td>0.002591</td>\n",
              "      <td>0.278066</td>\n",
              "      <td>0.127371</td>\n",
              "    </tr>\n",
              "    <tr>\n",
              "      <th>402</th>\n",
              "      <td>delicious</td>\n",
              "      <td>82</td>\n",
              "      <td>85</td>\n",
              "      <td>172.0</td>\n",
              "      <td>0.001054</td>\n",
              "      <td>0.464059</td>\n",
              "      <td>0.055556</td>\n",
              "    </tr>\n",
              "    <tr>\n",
              "      <th>324</th>\n",
              "      <td>not</td>\n",
              "      <td>29</td>\n",
              "      <td>40</td>\n",
              "      <td>381.0</td>\n",
              "      <td>0.000496</td>\n",
              "      <td>0.609173</td>\n",
              "      <td>0.019648</td>\n",
              "    </tr>\n",
              "  </tbody>\n",
              "</table>\n",
              "</div>"
            ],
            "text/plain": [
              "          word  appears_in  count  ...  pct_total  cul_pct_total  appears_in_pct\n",
              "142      great         347    466  ...   0.005776       0.116219        0.235095\n",
              "295       love         204    246  ...   0.003049       0.233765        0.138211\n",
              "563   friendly         188    209  ...   0.002591       0.278066        0.127371\n",
              "402  delicious          82     85  ...   0.001054       0.464059        0.055556\n",
              "324        not          29     40  ...   0.000496       0.609173        0.019648\n",
              "\n",
              "[5 rows x 7 columns]"
            ]
          },
          "metadata": {},
          "execution_count": 39
        }
      ]
    },
    {
      "cell_type": "code",
      "metadata": {
        "id": "4m0c-J5p3O7_"
      },
      "source": [
        "import seaborn as sns\n",
        "\n",
        "plt.figure(figsize=(15,6))\n",
        "plt.title(\"4 and 5 star reviews: Percent of Documents that Keywords appear in\")\n",
        "sns.barplot(x=df_pos_keywords.word, y=df_pos_keywords.appears_in_pct, palette=\"rocket\", order=key_words);\n",
        "plt.ylim(0,.42)\n",
        "plt.show();\n",
        "\n",
        "plt.figure(figsize=(15,6))\n",
        "plt.title(\"1, 2, and 3 star reviews: Percent of Documents that Keywords appear in\")\n",
        "sns.barplot(x=df_neg_keywords.word, y=df_neg_keywords.appears_in_pct, palette=\"rocket\", order=key_words);\n",
        "plt.ylim(0,.42)\n",
        "plt.show();"
      ],
      "execution_count": null,
      "outputs": []
    }
  ]
}